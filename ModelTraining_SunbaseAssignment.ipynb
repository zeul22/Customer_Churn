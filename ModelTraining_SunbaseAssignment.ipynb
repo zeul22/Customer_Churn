{
 "cells": [
  {
   "cell_type": "markdown",
   "id": "90cce27b",
   "metadata": {},
   "source": [
    "# Problem Statement"
   ]
  },
  {
   "cell_type": "markdown",
   "id": "bc668c1e",
   "metadata": {},
   "source": [
    "### Developing a machine learning model to predict customer churn based on historical customer data. \n",
    "#### Providing a full fleged working prototype from data preprocessing to model deployment\n"
   ]
  },
  {
   "cell_type": "markdown",
   "id": "beca08bd",
   "metadata": {},
   "source": [
    "# Summary of the Process"
   ]
  },
  {
   "cell_type": "markdown",
   "id": "72863e27",
   "metadata": {},
   "source": [
    "## Data Preprocessing:\n",
    "##\n",
    "#### You prepared the dataset for churn prediction. Applied preprocessing steps like StandardScaler for numerical features and OneHotEncoding for categorical features to transform the data into a suitable format for modeling.\n",
    "\n",
    "##\n",
    "## Visualization:\n",
    "##\n",
    "#### Employed different visualization techniques like heatmaps, bar plots, and count plots to gain insights into the data. Heatmaps possibly showed correlations between features and helped identify important relationships.Bar plots and count plots might have displayed distributions and categorical feature effects on churn.\n",
    "##\n",
    "\n",
    "## Model Selection with PyCaret:\n",
    "##\n",
    "#### Leveraged PyCaret, a Python library for automating machine learning workflows, to streamline the model selection process. Utilized PyCaret's functionality to compare various machine learning models in a single step. Explored different algorithms, enabling you to quickly evaluate their performance and choose the most promising ones.\n",
    "##\n",
    "\n",
    "## Best Model Selection:\n",
    "##\n",
    "### Analyzed the results provided by PyCaret to identify the best-performing model based on evaluation metrics like accuracy, recall, F1-score, etc.\n",
    "### Selected the model that demonstrated the most desirable trade-off between these metrics for your specific use case.\n",
    "##\n",
    "\n",
    "## Model Evaluation:\n",
    "##\n",
    "#### Used a test dataset that was separate from the training data to assess the chosen model's performance. Calculated accuracy, recall, and F1-score to gauge how well the model performs in identifying churn cases.\n",
    "##\n",
    "\n",
    "## Model Persistence with Pickle:\n",
    "##\n",
    "#### Leveraged the pickle library to save the trained machine learning model in a serialized format. This serialized model could be easily loaded and used for predictions without retraining every time.\n",
    "##\n",
    "## Web App Development with Streamlit:\n",
    "##\n",
    "#### Utilized Streamlit, a Python library for creating interactive web applications, to develop a user-friendly interface. Integrated the saved model into the Streamlit app, allowing users to input their data and receive churn predictions.\n",
    "##\n",
    "\n",
    "\n",
    "## User Interaction and Prediction:\n",
    "##\n",
    "#### Through the Streamlit web app, users could input their data (such as customer features) to predict churn probability. The app processed the input through the saved model, returning predictions to the user. Overall, your project demonstrated a comprehensive end-to-end workflow for customer churn prediction: Data preprocessing, feature engineering, model comparison, model evaluation, and the development of an interactive web application using Streamlit for real-world usage."
   ]
  },
  {
   "cell_type": "code",
   "execution_count": 49,
   "id": "2827072c",
   "metadata": {},
   "outputs": [],
   "source": [
    "#Requirements\n",
    "import pandas as pd\n",
    "import numpy as np\n",
    "import matplotlib.pyplot as plt\n",
    "import seaborn as sns\n",
    "from sklearn.compose import make_column_transformer\n",
    "from sklearn.preprocessing import MinMaxScaler, OneHotEncoder, StandardScaler\n",
    "from sklearn.model_selection import train_test_split\n",
    "from sklearn.ensemble import RandomForestClassifier\n",
    "from pycaret.classification import *\n",
    "import pickle"
   ]
  },
  {
   "cell_type": "code",
   "execution_count": 2,
   "id": "a96ed2a7",
   "metadata": {},
   "outputs": [],
   "source": [
    "df=pd.read_excel('customer_churn_large_dataset.xlsx')"
   ]
  },
  {
   "cell_type": "code",
   "execution_count": 3,
   "id": "d678c70e",
   "metadata": {},
   "outputs": [
    {
     "data": {
      "text/html": [
       "<div>\n",
       "<style scoped>\n",
       "    .dataframe tbody tr th:only-of-type {\n",
       "        vertical-align: middle;\n",
       "    }\n",
       "\n",
       "    .dataframe tbody tr th {\n",
       "        vertical-align: top;\n",
       "    }\n",
       "\n",
       "    .dataframe thead th {\n",
       "        text-align: right;\n",
       "    }\n",
       "</style>\n",
       "<table border=\"1\" class=\"dataframe\">\n",
       "  <thead>\n",
       "    <tr style=\"text-align: right;\">\n",
       "      <th></th>\n",
       "      <th>CustomerID</th>\n",
       "      <th>Name</th>\n",
       "      <th>Age</th>\n",
       "      <th>Gender</th>\n",
       "      <th>Location</th>\n",
       "      <th>Subscription_Length_Months</th>\n",
       "      <th>Monthly_Bill</th>\n",
       "      <th>Total_Usage_GB</th>\n",
       "      <th>Churn</th>\n",
       "    </tr>\n",
       "  </thead>\n",
       "  <tbody>\n",
       "    <tr>\n",
       "      <th>0</th>\n",
       "      <td>1</td>\n",
       "      <td>Customer_1</td>\n",
       "      <td>63</td>\n",
       "      <td>Male</td>\n",
       "      <td>Los Angeles</td>\n",
       "      <td>17</td>\n",
       "      <td>73.36</td>\n",
       "      <td>236</td>\n",
       "      <td>0</td>\n",
       "    </tr>\n",
       "    <tr>\n",
       "      <th>1</th>\n",
       "      <td>2</td>\n",
       "      <td>Customer_2</td>\n",
       "      <td>62</td>\n",
       "      <td>Female</td>\n",
       "      <td>New York</td>\n",
       "      <td>1</td>\n",
       "      <td>48.76</td>\n",
       "      <td>172</td>\n",
       "      <td>0</td>\n",
       "    </tr>\n",
       "    <tr>\n",
       "      <th>2</th>\n",
       "      <td>3</td>\n",
       "      <td>Customer_3</td>\n",
       "      <td>24</td>\n",
       "      <td>Female</td>\n",
       "      <td>Los Angeles</td>\n",
       "      <td>5</td>\n",
       "      <td>85.47</td>\n",
       "      <td>460</td>\n",
       "      <td>0</td>\n",
       "    </tr>\n",
       "    <tr>\n",
       "      <th>3</th>\n",
       "      <td>4</td>\n",
       "      <td>Customer_4</td>\n",
       "      <td>36</td>\n",
       "      <td>Female</td>\n",
       "      <td>Miami</td>\n",
       "      <td>3</td>\n",
       "      <td>97.94</td>\n",
       "      <td>297</td>\n",
       "      <td>1</td>\n",
       "    </tr>\n",
       "    <tr>\n",
       "      <th>4</th>\n",
       "      <td>5</td>\n",
       "      <td>Customer_5</td>\n",
       "      <td>46</td>\n",
       "      <td>Female</td>\n",
       "      <td>Miami</td>\n",
       "      <td>19</td>\n",
       "      <td>58.14</td>\n",
       "      <td>266</td>\n",
       "      <td>0</td>\n",
       "    </tr>\n",
       "    <tr>\n",
       "      <th>...</th>\n",
       "      <td>...</td>\n",
       "      <td>...</td>\n",
       "      <td>...</td>\n",
       "      <td>...</td>\n",
       "      <td>...</td>\n",
       "      <td>...</td>\n",
       "      <td>...</td>\n",
       "      <td>...</td>\n",
       "      <td>...</td>\n",
       "    </tr>\n",
       "    <tr>\n",
       "      <th>99995</th>\n",
       "      <td>99996</td>\n",
       "      <td>Customer_99996</td>\n",
       "      <td>33</td>\n",
       "      <td>Male</td>\n",
       "      <td>Houston</td>\n",
       "      <td>23</td>\n",
       "      <td>55.13</td>\n",
       "      <td>226</td>\n",
       "      <td>1</td>\n",
       "    </tr>\n",
       "    <tr>\n",
       "      <th>99996</th>\n",
       "      <td>99997</td>\n",
       "      <td>Customer_99997</td>\n",
       "      <td>62</td>\n",
       "      <td>Female</td>\n",
       "      <td>New York</td>\n",
       "      <td>19</td>\n",
       "      <td>61.65</td>\n",
       "      <td>351</td>\n",
       "      <td>0</td>\n",
       "    </tr>\n",
       "    <tr>\n",
       "      <th>99997</th>\n",
       "      <td>99998</td>\n",
       "      <td>Customer_99998</td>\n",
       "      <td>64</td>\n",
       "      <td>Male</td>\n",
       "      <td>Chicago</td>\n",
       "      <td>17</td>\n",
       "      <td>96.11</td>\n",
       "      <td>251</td>\n",
       "      <td>1</td>\n",
       "    </tr>\n",
       "    <tr>\n",
       "      <th>99998</th>\n",
       "      <td>99999</td>\n",
       "      <td>Customer_99999</td>\n",
       "      <td>51</td>\n",
       "      <td>Female</td>\n",
       "      <td>New York</td>\n",
       "      <td>20</td>\n",
       "      <td>49.25</td>\n",
       "      <td>434</td>\n",
       "      <td>1</td>\n",
       "    </tr>\n",
       "    <tr>\n",
       "      <th>99999</th>\n",
       "      <td>100000</td>\n",
       "      <td>Customer_100000</td>\n",
       "      <td>27</td>\n",
       "      <td>Female</td>\n",
       "      <td>Los Angeles</td>\n",
       "      <td>19</td>\n",
       "      <td>76.57</td>\n",
       "      <td>173</td>\n",
       "      <td>1</td>\n",
       "    </tr>\n",
       "  </tbody>\n",
       "</table>\n",
       "<p>100000 rows × 9 columns</p>\n",
       "</div>"
      ],
      "text/plain": [
       "       CustomerID             Name  Age  Gender     Location  \\\n",
       "0               1       Customer_1   63    Male  Los Angeles   \n",
       "1               2       Customer_2   62  Female     New York   \n",
       "2               3       Customer_3   24  Female  Los Angeles   \n",
       "3               4       Customer_4   36  Female        Miami   \n",
       "4               5       Customer_5   46  Female        Miami   \n",
       "...           ...              ...  ...     ...          ...   \n",
       "99995       99996   Customer_99996   33    Male      Houston   \n",
       "99996       99997   Customer_99997   62  Female     New York   \n",
       "99997       99998   Customer_99998   64    Male      Chicago   \n",
       "99998       99999   Customer_99999   51  Female     New York   \n",
       "99999      100000  Customer_100000   27  Female  Los Angeles   \n",
       "\n",
       "       Subscription_Length_Months  Monthly_Bill  Total_Usage_GB  Churn  \n",
       "0                              17         73.36             236      0  \n",
       "1                               1         48.76             172      0  \n",
       "2                               5         85.47             460      0  \n",
       "3                               3         97.94             297      1  \n",
       "4                              19         58.14             266      0  \n",
       "...                           ...           ...             ...    ...  \n",
       "99995                          23         55.13             226      1  \n",
       "99996                          19         61.65             351      0  \n",
       "99997                          17         96.11             251      1  \n",
       "99998                          20         49.25             434      1  \n",
       "99999                          19         76.57             173      1  \n",
       "\n",
       "[100000 rows x 9 columns]"
      ]
     },
     "execution_count": 3,
     "metadata": {},
     "output_type": "execute_result"
    }
   ],
   "source": [
    "df"
   ]
  },
  {
   "cell_type": "markdown",
   "id": "7249223e",
   "metadata": {},
   "source": [
    "## Data Insights"
   ]
  },
  {
   "cell_type": "markdown",
   "id": "491224ed",
   "metadata": {},
   "source": [
    "##### Data insights were extracted from the dataset to understand its characteristics. Visualizations like heatmaps, bar plots, and count plots revealed feature relationships and distributions. This exploration provided valuable information about the data's patterns and potential variables influencing the target, aiding subsequent modeling decisions."
   ]
  },
  {
   "cell_type": "code",
   "execution_count": 4,
   "id": "fc93a0ba",
   "metadata": {},
   "outputs": [
    {
     "data": {
      "text/html": [
       "<div>\n",
       "<style scoped>\n",
       "    .dataframe tbody tr th:only-of-type {\n",
       "        vertical-align: middle;\n",
       "    }\n",
       "\n",
       "    .dataframe tbody tr th {\n",
       "        vertical-align: top;\n",
       "    }\n",
       "\n",
       "    .dataframe thead th {\n",
       "        text-align: right;\n",
       "    }\n",
       "</style>\n",
       "<table border=\"1\" class=\"dataframe\">\n",
       "  <thead>\n",
       "    <tr style=\"text-align: right;\">\n",
       "      <th></th>\n",
       "      <th>CustomerID</th>\n",
       "      <th>Name</th>\n",
       "      <th>Age</th>\n",
       "      <th>Gender</th>\n",
       "      <th>Location</th>\n",
       "      <th>Subscription_Length_Months</th>\n",
       "      <th>Monthly_Bill</th>\n",
       "      <th>Total_Usage_GB</th>\n",
       "      <th>Churn</th>\n",
       "    </tr>\n",
       "  </thead>\n",
       "  <tbody>\n",
       "    <tr>\n",
       "      <th>0</th>\n",
       "      <td>1</td>\n",
       "      <td>Customer_1</td>\n",
       "      <td>63</td>\n",
       "      <td>Male</td>\n",
       "      <td>Los Angeles</td>\n",
       "      <td>17</td>\n",
       "      <td>73.36</td>\n",
       "      <td>236</td>\n",
       "      <td>0</td>\n",
       "    </tr>\n",
       "    <tr>\n",
       "      <th>1</th>\n",
       "      <td>2</td>\n",
       "      <td>Customer_2</td>\n",
       "      <td>62</td>\n",
       "      <td>Female</td>\n",
       "      <td>New York</td>\n",
       "      <td>1</td>\n",
       "      <td>48.76</td>\n",
       "      <td>172</td>\n",
       "      <td>0</td>\n",
       "    </tr>\n",
       "    <tr>\n",
       "      <th>2</th>\n",
       "      <td>3</td>\n",
       "      <td>Customer_3</td>\n",
       "      <td>24</td>\n",
       "      <td>Female</td>\n",
       "      <td>Los Angeles</td>\n",
       "      <td>5</td>\n",
       "      <td>85.47</td>\n",
       "      <td>460</td>\n",
       "      <td>0</td>\n",
       "    </tr>\n",
       "    <tr>\n",
       "      <th>3</th>\n",
       "      <td>4</td>\n",
       "      <td>Customer_4</td>\n",
       "      <td>36</td>\n",
       "      <td>Female</td>\n",
       "      <td>Miami</td>\n",
       "      <td>3</td>\n",
       "      <td>97.94</td>\n",
       "      <td>297</td>\n",
       "      <td>1</td>\n",
       "    </tr>\n",
       "    <tr>\n",
       "      <th>4</th>\n",
       "      <td>5</td>\n",
       "      <td>Customer_5</td>\n",
       "      <td>46</td>\n",
       "      <td>Female</td>\n",
       "      <td>Miami</td>\n",
       "      <td>19</td>\n",
       "      <td>58.14</td>\n",
       "      <td>266</td>\n",
       "      <td>0</td>\n",
       "    </tr>\n",
       "  </tbody>\n",
       "</table>\n",
       "</div>"
      ],
      "text/plain": [
       "   CustomerID        Name  Age  Gender     Location  \\\n",
       "0           1  Customer_1   63    Male  Los Angeles   \n",
       "1           2  Customer_2   62  Female     New York   \n",
       "2           3  Customer_3   24  Female  Los Angeles   \n",
       "3           4  Customer_4   36  Female        Miami   \n",
       "4           5  Customer_5   46  Female        Miami   \n",
       "\n",
       "   Subscription_Length_Months  Monthly_Bill  Total_Usage_GB  Churn  \n",
       "0                          17         73.36             236      0  \n",
       "1                           1         48.76             172      0  \n",
       "2                           5         85.47             460      0  \n",
       "3                           3         97.94             297      1  \n",
       "4                          19         58.14             266      0  "
      ]
     },
     "execution_count": 4,
     "metadata": {},
     "output_type": "execute_result"
    }
   ],
   "source": [
    "df.head(5) #provides first 5 rows of the dataset"
   ]
  },
  {
   "cell_type": "code",
   "execution_count": 5,
   "id": "e862d408",
   "metadata": {},
   "outputs": [
    {
     "name": "stdout",
     "output_type": "stream",
     "text": [
      "<class 'pandas.core.frame.DataFrame'>\n",
      "RangeIndex: 100000 entries, 0 to 99999\n",
      "Data columns (total 9 columns):\n",
      " #   Column                      Non-Null Count   Dtype  \n",
      "---  ------                      --------------   -----  \n",
      " 0   CustomerID                  100000 non-null  int64  \n",
      " 1   Name                        100000 non-null  object \n",
      " 2   Age                         100000 non-null  int64  \n",
      " 3   Gender                      100000 non-null  object \n",
      " 4   Location                    100000 non-null  object \n",
      " 5   Subscription_Length_Months  100000 non-null  int64  \n",
      " 6   Monthly_Bill                100000 non-null  float64\n",
      " 7   Total_Usage_GB              100000 non-null  int64  \n",
      " 8   Churn                       100000 non-null  int64  \n",
      "dtypes: float64(1), int64(5), object(3)\n",
      "memory usage: 6.9+ MB\n"
     ]
    }
   ],
   "source": [
    "df.info() #provides the knowledge if it needs any data pre-processing"
   ]
  },
  {
   "cell_type": "code",
   "execution_count": 6,
   "id": "181398fd",
   "metadata": {},
   "outputs": [
    {
     "data": {
      "text/html": [
       "<div>\n",
       "<style scoped>\n",
       "    .dataframe tbody tr th:only-of-type {\n",
       "        vertical-align: middle;\n",
       "    }\n",
       "\n",
       "    .dataframe tbody tr th {\n",
       "        vertical-align: top;\n",
       "    }\n",
       "\n",
       "    .dataframe thead th {\n",
       "        text-align: right;\n",
       "    }\n",
       "</style>\n",
       "<table border=\"1\" class=\"dataframe\">\n",
       "  <thead>\n",
       "    <tr style=\"text-align: right;\">\n",
       "      <th></th>\n",
       "      <th>CustomerID</th>\n",
       "      <th>Age</th>\n",
       "      <th>Subscription_Length_Months</th>\n",
       "      <th>Monthly_Bill</th>\n",
       "      <th>Total_Usage_GB</th>\n",
       "      <th>Churn</th>\n",
       "    </tr>\n",
       "  </thead>\n",
       "  <tbody>\n",
       "    <tr>\n",
       "      <th>count</th>\n",
       "      <td>100000.000000</td>\n",
       "      <td>100000.000000</td>\n",
       "      <td>100000.000000</td>\n",
       "      <td>100000.000000</td>\n",
       "      <td>100000.000000</td>\n",
       "      <td>100000.000000</td>\n",
       "    </tr>\n",
       "    <tr>\n",
       "      <th>mean</th>\n",
       "      <td>50000.500000</td>\n",
       "      <td>44.027020</td>\n",
       "      <td>12.490100</td>\n",
       "      <td>65.053197</td>\n",
       "      <td>274.393650</td>\n",
       "      <td>0.497790</td>\n",
       "    </tr>\n",
       "    <tr>\n",
       "      <th>std</th>\n",
       "      <td>28867.657797</td>\n",
       "      <td>15.280283</td>\n",
       "      <td>6.926461</td>\n",
       "      <td>20.230696</td>\n",
       "      <td>130.463063</td>\n",
       "      <td>0.499998</td>\n",
       "    </tr>\n",
       "    <tr>\n",
       "      <th>min</th>\n",
       "      <td>1.000000</td>\n",
       "      <td>18.000000</td>\n",
       "      <td>1.000000</td>\n",
       "      <td>30.000000</td>\n",
       "      <td>50.000000</td>\n",
       "      <td>0.000000</td>\n",
       "    </tr>\n",
       "    <tr>\n",
       "      <th>25%</th>\n",
       "      <td>25000.750000</td>\n",
       "      <td>31.000000</td>\n",
       "      <td>6.000000</td>\n",
       "      <td>47.540000</td>\n",
       "      <td>161.000000</td>\n",
       "      <td>0.000000</td>\n",
       "    </tr>\n",
       "    <tr>\n",
       "      <th>50%</th>\n",
       "      <td>50000.500000</td>\n",
       "      <td>44.000000</td>\n",
       "      <td>12.000000</td>\n",
       "      <td>65.010000</td>\n",
       "      <td>274.000000</td>\n",
       "      <td>0.000000</td>\n",
       "    </tr>\n",
       "    <tr>\n",
       "      <th>75%</th>\n",
       "      <td>75000.250000</td>\n",
       "      <td>57.000000</td>\n",
       "      <td>19.000000</td>\n",
       "      <td>82.640000</td>\n",
       "      <td>387.000000</td>\n",
       "      <td>1.000000</td>\n",
       "    </tr>\n",
       "    <tr>\n",
       "      <th>max</th>\n",
       "      <td>100000.000000</td>\n",
       "      <td>70.000000</td>\n",
       "      <td>24.000000</td>\n",
       "      <td>100.000000</td>\n",
       "      <td>500.000000</td>\n",
       "      <td>1.000000</td>\n",
       "    </tr>\n",
       "  </tbody>\n",
       "</table>\n",
       "</div>"
      ],
      "text/plain": [
       "          CustomerID            Age  Subscription_Length_Months  \\\n",
       "count  100000.000000  100000.000000               100000.000000   \n",
       "mean    50000.500000      44.027020                   12.490100   \n",
       "std     28867.657797      15.280283                    6.926461   \n",
       "min         1.000000      18.000000                    1.000000   \n",
       "25%     25000.750000      31.000000                    6.000000   \n",
       "50%     50000.500000      44.000000                   12.000000   \n",
       "75%     75000.250000      57.000000                   19.000000   \n",
       "max    100000.000000      70.000000                   24.000000   \n",
       "\n",
       "        Monthly_Bill  Total_Usage_GB          Churn  \n",
       "count  100000.000000   100000.000000  100000.000000  \n",
       "mean       65.053197      274.393650       0.497790  \n",
       "std        20.230696      130.463063       0.499998  \n",
       "min        30.000000       50.000000       0.000000  \n",
       "25%        47.540000      161.000000       0.000000  \n",
       "50%        65.010000      274.000000       0.000000  \n",
       "75%        82.640000      387.000000       1.000000  \n",
       "max       100.000000      500.000000       1.000000  "
      ]
     },
     "execution_count": 6,
     "metadata": {},
     "output_type": "execute_result"
    }
   ],
   "source": [
    "df.describe() #describes various statistical info about the dataset"
   ]
  },
  {
   "cell_type": "code",
   "execution_count": 7,
   "id": "79826e6f",
   "metadata": {},
   "outputs": [
    {
     "data": {
      "text/plain": [
       "Female    50216\n",
       "Male      49784\n",
       "Name: Gender, dtype: int64"
      ]
     },
     "execution_count": 7,
     "metadata": {},
     "output_type": "execute_result"
    }
   ],
   "source": [
    "df['Gender'].value_counts() #Gender distribution"
   ]
  },
  {
   "cell_type": "code",
   "execution_count": 8,
   "id": "57549e44",
   "metadata": {},
   "outputs": [
    {
     "data": {
      "text/plain": [
       "Houston        20157\n",
       "Los Angeles    20041\n",
       "Miami          20031\n",
       "Chicago        19958\n",
       "New York       19813\n",
       "Name: Location, dtype: int64"
      ]
     },
     "execution_count": 8,
     "metadata": {},
     "output_type": "execute_result"
    }
   ],
   "source": [
    "df['Location'].value_counts() #location distribution"
   ]
  },
  {
   "cell_type": "code",
   "execution_count": 9,
   "id": "d3eb2a0c",
   "metadata": {},
   "outputs": [
    {
     "data": {
      "text/plain": [
       "(18, 44, 70)"
      ]
     },
     "execution_count": 9,
     "metadata": {},
     "output_type": "execute_result"
    }
   ],
   "source": [
    "df['Age'].min(),round(df['Age'].mean()),df['Age'].max() #Min, Average & Max value of Age column"
   ]
  },
  {
   "cell_type": "code",
   "execution_count": 10,
   "id": "fbda2036",
   "metadata": {},
   "outputs": [
    {
     "data": {
      "text/plain": [
       "(50, 274, 500)"
      ]
     },
     "execution_count": 10,
     "metadata": {},
     "output_type": "execute_result"
    }
   ],
   "source": [
    "#Similary that of Usage & Monthly Bill\n",
    "df['Total_Usage_GB'].min(),round(df['Total_Usage_GB'].mean()) ,df['Total_Usage_GB'].max()"
   ]
  },
  {
   "cell_type": "code",
   "execution_count": 11,
   "id": "a56f46bf",
   "metadata": {},
   "outputs": [
    {
     "data": {
      "text/plain": [
       "(30.0, 65, 100.0)"
      ]
     },
     "execution_count": 11,
     "metadata": {},
     "output_type": "execute_result"
    }
   ],
   "source": [
    "df['Monthly_Bill'].min(), round(df['Monthly_Bill'].mean()) ,df['Monthly_Bill'].max()"
   ]
  },
  {
   "cell_type": "markdown",
   "id": "4ef391a7",
   "metadata": {},
   "source": [
    "## Data Visualizations"
   ]
  },
  {
   "cell_type": "markdown",
   "id": "2a167df5",
   "metadata": {},
   "source": [
    "#### Various visualizations, including heatmaps, bar plots, and count plots, were utilized to gain insights into the dataset. These visuals unveiled correlations, distributions, and categorical effects, providing a concise overview of the data's attributes and aiding in informed decision-making during analysis and model selection."
   ]
  },
  {
   "cell_type": "code",
   "execution_count": 12,
   "id": "2a0a7ebb",
   "metadata": {},
   "outputs": [
    {
     "data": {
      "text/plain": [
       "array([[<Axes: title={'center': 'CustomerID'}>,\n",
       "        <Axes: title={'center': 'Age'}>],\n",
       "       [<Axes: title={'center': 'Subscription_Length_Months'}>,\n",
       "        <Axes: title={'center': 'Monthly_Bill'}>],\n",
       "       [<Axes: title={'center': 'Total_Usage_GB'}>,\n",
       "        <Axes: title={'center': 'Churn'}>]], dtype=object)"
      ]
     },
     "execution_count": 12,
     "metadata": {},
     "output_type": "execute_result"
    },
    {
     "data": {
      "image/png": "[encoded data removed]",
      "text/plain": [
       "<Figure size 1200x800 with 6 Axes>"
      ]
     },
     "metadata": {},
     "output_type": "display_data"
    }
   ],
   "source": [
    "df.hist(bins=50,figsize=(12,8))"
   ]
  },
  {
   "cell_type": "code",
   "execution_count": 13,
   "id": "86a9cf5f",
   "metadata": {},
   "outputs": [
    {
     "data": {
      "text/plain": [
       "<Axes: xlabel='Gender', ylabel='Monthly_Bill'>"
      ]
     },
     "execution_count": 13,
     "metadata": {},
     "output_type": "execute_result"
    },
    {
     "data": {
      "image/png": "[encoded data removed]",
      "text/plain": [
       "<Figure size 800x550 with 1 Axes>"
      ]
     },
     "metadata": {},
     "output_type": "display_data"
    }
   ],
   "source": [
    "sns.boxplot(x=df[\"Gender\"], y=df[\"Monthly_Bill\"],palette=\"flare\")"
   ]
  },
  {
   "cell_type": "code",
   "execution_count": 14,
   "id": "cfd832c7",
   "metadata": {},
   "outputs": [
    {
     "data": {
      "text/plain": [
       "<Axes: xlabel='Gender', ylabel='Subscription_Length_Months'>"
      ]
     },
     "execution_count": 14,
     "metadata": {},
     "output_type": "execute_result"
    },
    {
     "data": {
      "image/png": "[encoded data removed]",
      "text/plain": [
       "<Figure size 800x550 with 1 Axes>"
      ]
     },
     "metadata": {},
     "output_type": "display_data"
    }
   ],
   "source": [
    "sns.boxplot(x=df[\"Gender\"], y=df[\"Subscription_Length_Months\"],palette=\"flare\")"
   ]
  },
  {
   "cell_type": "code",
   "execution_count": 15,
   "id": "7a2d5d2f",
   "metadata": {},
   "outputs": [
    {
     "data": {
      "text/plain": [
       "<Axes: xlabel='Gender', ylabel='Total_Usage_GB'>"
      ]
     },
     "execution_count": 15,
     "metadata": {},
     "output_type": "execute_result"
    },
    {
     "data": {
      "image/png": "[encoded data removed]",
      "text/plain": [
       "<Figure size 800x550 with 1 Axes>"
      ]
     },
     "metadata": {},
     "output_type": "display_data"
    }
   ],
   "source": [
    "sns.boxplot(x=df[\"Gender\"], y=df[\"Total_Usage_GB\"],palette=\"flare\")"
   ]
  },
  {
   "cell_type": "code",
   "execution_count": 16,
   "id": "056a8cda",
   "metadata": {},
   "outputs": [
    {
     "data": {
      "text/plain": [
       "<Axes: xlabel='Location', ylabel='Monthly_Bill'>"
      ]
     },
     "execution_count": 16,
     "metadata": {},
     "output_type": "execute_result"
    },
    {
     "data": {
      "image/png": "[encoded data removed]",
      "text/plain": [
       "<Figure size 800x550 with 1 Axes>"
      ]
     },
     "metadata": {},
     "output_type": "display_data"
    }
   ],
   "source": [
    "sns.boxplot(x=df[\"Location\"], y=df[\"Monthly_Bill\"],palette=\"flare\")"
   ]
  },
  {
   "cell_type": "code",
   "execution_count": 17,
   "id": "b2ba156c",
   "metadata": {},
   "outputs": [
    {
     "data": {
      "text/plain": [
       "<Axes: xlabel='Location', ylabel='Subscription_Length_Months'>"
      ]
     },
     "execution_count": 17,
     "metadata": {},
     "output_type": "execute_result"
    },
    {
     "data": {
      "image/png": "[encoded data removed]",
      "text/plain": [
       "<Figure size 800x550 with 1 Axes>"
      ]
     },
     "metadata": {},
     "output_type": "display_data"
    }
   ],
   "source": [
    "sns.boxplot(x=df[\"Location\"], y=df[\"Subscription_Length_Months\"],palette=\"flare\")"
   ]
  },
  {
   "cell_type": "code",
   "execution_count": 18,
   "id": "e0f6b185",
   "metadata": {},
   "outputs": [
    {
     "data": {
      "text/plain": [
       "<Axes: xlabel='Location', ylabel='Total_Usage_GB'>"
      ]
     },
     "execution_count": 18,
     "metadata": {},
     "output_type": "execute_result"
    },
    {
     "data": {
      "image/png": "[encoded data removed]",
      "text/plain": [
       "<Figure size 800x550 with 1 Axes>"
      ]
     },
     "metadata": {},
     "output_type": "display_data"
    }
   ],
   "source": [
    "sns.boxplot(x=df[\"Location\"], y=df[\"Total_Usage_GB\"],palette=\"flare\")"
   ]
  },
  {
   "cell_type": "code",
   "execution_count": 19,
   "id": "32518c24",
   "metadata": {},
   "outputs": [
    {
     "data": {
      "text/plain": [
       "Text(0, 0.5, 'Churn')"
      ]
     },
     "execution_count": 19,
     "metadata": {},
     "output_type": "execute_result"
    },
    {
     "data": {
      "image/png": "[encoded data removed]",
      "text/plain": [
       "<Figure size 1000x600 with 1 Axes>"
      ]
     },
     "metadata": {},
     "output_type": "display_data"
    }
   ],
   "source": [
    "plt.figure(figsize=(10,6))\n",
    "sns.barplot(x=df['Gender'], y=df['Monthly_Bill'], ci=None, palette=\"flare\")\n",
    "plt.title(\"Gender wise Monthly Bill\")\n",
    "plt.xlabel(\"Genders\")\n",
    "plt.ylabel(\"Churn\")"
   ]
  },
  {
   "cell_type": "code",
   "execution_count": 20,
   "id": "bcd5d2a4",
   "metadata": {},
   "outputs": [
    {
     "data": {
      "text/plain": [
       "Text(0, 0.5, 'Total_Usage(GB)')"
      ]
     },
     "execution_count": 20,
     "metadata": {},
     "output_type": "execute_result"
    },
    {
     "data": {
      "image/png": "[encoded data removed]",
      "text/plain": [
       "<Figure size 1000x600 with 1 Axes>"
      ]
     },
     "metadata": {},
     "output_type": "display_data"
    }
   ],
   "source": [
    "plt.figure(figsize=(10,6))\n",
    "sns.barplot(x=df['Gender'], y=df['Total_Usage_GB'], ci=None, palette=\"flare\")\n",
    "plt.title(\"Gender wise Total Usage\")\n",
    "plt.xlabel(\"Genders\")\n",
    "plt.ylabel(\"Total_Usage(GB)\")"
   ]
  },
  {
   "cell_type": "code",
   "execution_count": 21,
   "id": "f989adf9",
   "metadata": {},
   "outputs": [
    {
     "data": {
      "text/plain": [
       "Text(0, 0.5, 'Subscription-Months')"
      ]
     },
     "execution_count": 21,
     "metadata": {},
     "output_type": "execute_result"
    },
    {
     "data": {
      "image/png": "[encoded data removed]",
      "text/plain": [
       "<Figure size 1000x600 with 1 Axes>"
      ]
     },
     "metadata": {},
     "output_type": "display_data"
    }
   ],
   "source": [
    "plt.figure(figsize=(10,6))\n",
    "sns.barplot(x=df['Gender'], y=df['Subscription_Length_Months'], ci=None, palette=\"flare\")\n",
    "plt.title(\"Gender wise Subscription Months\")\n",
    "plt.xlabel(\"Genders\")\n",
    "plt.ylabel(\"Subscription-Months\")"
   ]
  },
  {
   "cell_type": "code",
   "execution_count": 22,
   "id": "977cd6b5",
   "metadata": {},
   "outputs": [
    {
     "data": {
      "text/plain": [
       "Text(0, 0.5, 'Subscription Months')"
      ]
     },
     "execution_count": 22,
     "metadata": {},
     "output_type": "execute_result"
    },
    {
     "data": {
      "image/png": "[encoded data removed]",
      "text/plain": [
       "<Figure size 1000x600 with 1 Axes>"
      ]
     },
     "metadata": {},
     "output_type": "display_data"
    }
   ],
   "source": [
    "plt.figure(figsize=(10,6))\n",
    "sns.barplot(x=df['Location'], y=df['Subscription_Length_Months'], ci=None, palette=\"flare\")\n",
    "plt.title(\"Location wise Subscription-Months\")\n",
    "plt.xlabel(\"Locations\")\n",
    "plt.ylabel(\"Subscription Months\")"
   ]
  },
  {
   "cell_type": "code",
   "execution_count": 23,
   "id": "72304d26",
   "metadata": {},
   "outputs": [
    {
     "data": {
      "text/plain": [
       "Text(0.5, 1.0, 'Gender Distribution')"
      ]
     },
     "execution_count": 23,
     "metadata": {},
     "output_type": "execute_result"
    },
    {
     "data": {
      "image/png": "[encoded data removed]",
      "text/plain": [
       "<Figure size 1000x600 with 1 Axes>"
      ]
     },
     "metadata": {},
     "output_type": "display_data"
    }
   ],
   "source": [
    "plt.figure(figsize=(10,6))\n",
    "sns.barplot(x=df['Location'], y=df['Subscription_Length_Months'],hue=df['Gender'], ci=None, palette=\"flare\")\n",
    "plt.title(\"Location wise Subscription-Months\")\n",
    "plt.xlabel(\"Locations\")\n",
    "plt.ylabel(\"Subscription Months\")\n",
    "plt.title('Gender Distribution')"
   ]
  },
  {
   "cell_type": "code",
   "execution_count": 24,
   "id": "44a83d5e",
   "metadata": {},
   "outputs": [
    {
     "data": {
      "text/plain": [
       "Text(0, 0.5, 'Monthly Bills')"
      ]
     },
     "execution_count": 24,
     "metadata": {},
     "output_type": "execute_result"
    },
    {
     "data": {
      "image/png": "[encoded data removed]",
      "text/plain": [
       "<Figure size 1000x600 with 1 Axes>"
      ]
     },
     "metadata": {},
     "output_type": "display_data"
    }
   ],
   "source": [
    "plt.figure(figsize=(10,6))\n",
    "sns.barplot(x=df['Location'], y=df['Monthly_Bill'], ci=None, palette=\"flare\")\n",
    "plt.title(\"Location wise Monthly Bills\")\n",
    "plt.xlabel(\"Locations\")\n",
    "plt.ylabel(\"Monthly Bills\")"
   ]
  },
  {
   "cell_type": "code",
   "execution_count": 25,
   "id": "3dcbc9e5",
   "metadata": {},
   "outputs": [
    {
     "data": {
      "text/plain": [
       "Text(0.5, 1.0, 'Gender Distribution')"
      ]
     },
     "execution_count": 25,
     "metadata": {},
     "output_type": "execute_result"
    },
    {
     "data": {
      "image/png": "[encoded data removed]",
      "text/plain": [
       "<Figure size 1000x600 with 1 Axes>"
      ]
     },
     "metadata": {},
     "output_type": "display_data"
    }
   ],
   "source": [
    "plt.figure(figsize=(10,6))\n",
    "sns.barplot(x=df['Location'], y=df['Monthly_Bill'],hue=df['Gender'], ci=None, palette=\"flare\")\n",
    "plt.title(\"Location wise Monthly Bills\")\n",
    "plt.xlabel(\"Locations\")\n",
    "plt.ylabel(\"Monthly Bills\")\n",
    "plt.title('Gender Distribution')"
   ]
  },
  {
   "cell_type": "code",
   "execution_count": 26,
   "id": "78f3d072",
   "metadata": {},
   "outputs": [
    {
     "data": {
      "text/plain": [
       "Text(0, 0.5, 'Total Usage(GB)')"
      ]
     },
     "execution_count": 26,
     "metadata": {},
     "output_type": "execute_result"
    },
    {
     "data": {
      "image/png": "[encoded data removed]",
      "text/plain": [
       "<Figure size 1000x600 with 1 Axes>"
      ]
     },
     "metadata": {},
     "output_type": "display_data"
    }
   ],
   "source": [
    "plt.figure(figsize=(10,6))\n",
    "sns.barplot(x=df['Location'], y=df['Total_Usage_GB'], ci=None, palette=\"flare\")\n",
    "plt.title(\"Location wise Total Usage\")\n",
    "plt.xlabel(\"Locations\")\n",
    "plt.ylabel(\"Total Usage(GB)\")"
   ]
  },
  {
   "cell_type": "code",
   "execution_count": 27,
   "id": "0becc847",
   "metadata": {},
   "outputs": [
    {
     "data": {
      "text/plain": [
       "Text(0.5, 1.0, 'Gender Distribution')"
      ]
     },
     "execution_count": 27,
     "metadata": {},
     "output_type": "execute_result"
    },
    {
     "data": {
      "image/png": "[encoded data removed]",
      "text/plain": [
       "<Figure size 1000x600 with 1 Axes>"
      ]
     },
     "metadata": {},
     "output_type": "display_data"
    }
   ],
   "source": [
    "plt.figure(figsize=(10,6))\n",
    "sns.barplot(x=df['Location'], y=df['Total_Usage_GB'],hue=df['Gender'], ci=None, palette=\"flare\")\n",
    "plt.title(\"Location wise Total Usage\")\n",
    "plt.xlabel(\"Locations\")\n",
    "plt.ylabel(\"Total Usage(GB)\")\n",
    "plt.title('Gender Distribution')"
   ]
  },
  {
   "cell_type": "markdown",
   "id": "829fe596",
   "metadata": {},
   "source": [
    "### AUTOVIZ Visualizations to display more relations"
   ]
  },
  {
   "cell_type": "code",
   "execution_count": 28,
   "id": "f24abe02",
   "metadata": {},
   "outputs": [
    {
     "data": {
      "text/html": [
       "<style>.bk-root, .bk-root .bk:before, .bk-root .bk:after {\n",
       "  font-family: var(--jp-ui-font-size1);\n",
       "  font-size: var(--jp-ui-font-size1);\n",
       "  color: var(--jp-ui-font-color1);\n",
       "}\n",
       "</style>"
      ]
     },
     "metadata": {},
     "output_type": "display_data"
    },
    {
     "name": "stdout",
     "output_type": "stream",
     "text": [
      "Imported v0.1.730. After importing autoviz, execute '%matplotlib inline' to display charts inline.\n",
      "    AV = AutoViz_Class()\n",
      "    dfte = AV.AutoViz(filename, sep=',', depVar='', dfte=None, header=0, verbose=1, lowess=False,\n",
      "               chart_format='svg',max_rows_analyzed=150000,max_cols_analyzed=30, save_plot_dir=None)\n",
      "Shape of your Data Set loaded: (100000, 9)\n",
      "#######################################################################################\n",
      "######################## C L A S S I F Y I N G  V A R I A B L E S  ####################\n",
      "#######################################################################################\n",
      "Classifying variables in data set...\n",
      "    9 Predictors classified...\n",
      "        2 variable(s) removed since they were ID or low-information variables\n",
      "        List of variables removed: ['CustomerID', 'Name']\n",
      "Since Number of Rows in data 100000 exceeds maximum, randomly sampling 100000 rows for EDA...\n",
      "Could not find given target var in data set. Please check input\n",
      "Not able to read or load file. Please check your inputs and try again...\n"
     ]
    }
   ],
   "source": [
    "from autoviz.AutoViz_Class import AutoViz_Class\n",
    "%matplotlib inline\n",
    "AV = AutoViz_Class()\n",
    "AV.AutoViz(filename='',dfte=df,depVar='passthrough__Churn',verbose=1,max_rows_analyzed=df.shape[0])"
   ]
  },
  {
   "cell_type": "markdown",
   "id": "fd6c6083",
   "metadata": {},
   "source": [
    "## Data Preprocessing"
   ]
  },
  {
   "cell_type": "markdown",
   "id": "a9ae537a",
   "metadata": {},
   "source": [
    "#### Data underwent essential processing for analysis. StandardScaler normalized numeric features, while OneHotEncoding transformed categorical variables. This preprocessing prepared the dataset for machine learning, enhancing model performance by ensuring uniform scales and suitable representations of features."
   ]
  },
  {
   "cell_type": "markdown",
   "id": "8eb1a583",
   "metadata": {},
   "source": [
    "### Distribution of numerical and categorical columns"
   ]
  },
  {
   "cell_type": "code",
   "execution_count": 29,
   "id": "893e8fd0",
   "metadata": {},
   "outputs": [],
   "source": [
    "numerical_features = [feature for feature in df.columns if df[feature].dtypes != 'O']\n",
    "discrete_features = [feature for feature in numerical_features if len(df[feature].unique())<25]\n",
    "continuous_features = [feature for feature in numerical_features if feature not in discrete_features]\n",
    "categorical_features = [feature for feature in df.columns if feature not in numerical_features]\n",
    "binary_categorical_features = [feature for feature in categorical_features if len(df[feature].unique()) <=3]"
   ]
  },
  {
   "cell_type": "code",
   "execution_count": 30,
   "id": "23d7593f",
   "metadata": {},
   "outputs": [
    {
     "name": "stdout",
     "output_type": "stream",
     "text": [
      "Numerical Features Count 6: ['CustomerID', 'Age', 'Subscription_Length_Months', 'Monthly_Bill', 'Total_Usage_GB', 'Churn']\n",
      "Discrete features Count 2: ['Subscription_Length_Months', 'Churn']\n",
      "Continuous features Count 4: ['CustomerID', 'Age', 'Monthly_Bill', 'Total_Usage_GB']\n",
      "Categorical features Count 3: ['Name', 'Gender', 'Location']\n",
      "Binary Categorical features Count 1: ['Gender']\n"
     ]
    }
   ],
   "source": [
    "print(f\"Numerical Features Count {len(numerical_features)}: {numerical_features}\")\n",
    "print(f\"Discrete features Count {len(discrete_features)}: {discrete_features}\")\n",
    "print(f\"Continuous features Count {len(continuous_features)}: {continuous_features}\")\n",
    "print(f\"Categorical features Count {len(categorical_features)}: {categorical_features}\")\n",
    "print(f\"Binary Categorical features Count {len(binary_categorical_features)}: {binary_categorical_features}\")"
   ]
  },
  {
   "cell_type": "code",
   "execution_count": 31,
   "id": "d89b4ca2",
   "metadata": {},
   "outputs": [],
   "source": [
    "#Dividing the columns into different lists for processing\n",
    "num_feats=['Subscription_Length_Months', 'Monthly_Bill', 'Total_Usage_GB', ]\n",
    "cat_feats=['Gender','Location']\n",
    "pass_through=['Churn', ]\n",
    "drop_feats=['CustomerID','Name']"
   ]
  },
  {
   "cell_type": "code",
   "execution_count": 32,
   "id": "84aa111b",
   "metadata": {},
   "outputs": [],
   "source": [
    "#Used Column Transformer to easly perform feature transformation in one go!\n",
    "ct=make_column_transformer(\n",
    "        (StandardScaler(),num_feats),\n",
    "        (OneHotEncoder(),cat_feats),\n",
    "        ('drop',drop_feats),\n",
    "        ('passthrough',pass_through)\n",
    ")"
   ]
  },
  {
   "cell_type": "code",
   "execution_count": 33,
   "id": "afc3447c",
   "metadata": {},
   "outputs": [
    {
     "data": {
      "text/html": [
       "<div>\n",
       "<style scoped>\n",
       "    .dataframe tbody tr th:only-of-type {\n",
       "        vertical-align: middle;\n",
       "    }\n",
       "\n",
       "    .dataframe tbody tr th {\n",
       "        vertical-align: top;\n",
       "    }\n",
       "\n",
       "    .dataframe thead th {\n",
       "        text-align: right;\n",
       "    }\n",
       "</style>\n",
       "<table border=\"1\" class=\"dataframe\">\n",
       "  <thead>\n",
       "    <tr style=\"text-align: center;\">\n",
       "      <th></th>\n",
       "      <th>CustomerID</th>\n",
       "      <th>Name</th>\n",
       "      <th>Age</th>\n",
       "      <th>Gender</th>\n",
       "      <th>Location</th>\n",
       "      <th>Subscription_Length_Months</th>\n",
       "      <th>Monthly_Bill</th>\n",
       "      <th>Total_Usage_GB</th>\n",
       "      <th>Churn</th>\n",
       "    </tr>\n",
       "  </thead>\n",
       "  <tbody>\n",
       "    <tr>\n",
       "      <th>0</th>\n",
       "      <td>1</td>\n",
       "      <td>Customer_1</td>\n",
       "      <td>63</td>\n",
       "      <td>Male</td>\n",
       "      <td>Los Angeles</td>\n",
       "      <td>17</td>\n",
       "      <td>73.36</td>\n",
       "      <td>236</td>\n",
       "      <td>0</td>\n",
       "    </tr>\n",
       "    <tr>\n",
       "      <th>1</th>\n",
       "      <td>2</td>\n",
       "      <td>Customer_2</td>\n",
       "      <td>62</td>\n",
       "      <td>Female</td>\n",
       "      <td>New York</td>\n",
       "      <td>1</td>\n",
       "      <td>48.76</td>\n",
       "      <td>172</td>\n",
       "      <td>0</td>\n",
       "    </tr>\n",
       "    <tr>\n",
       "      <th>2</th>\n",
       "      <td>3</td>\n",
       "      <td>Customer_3</td>\n",
       "      <td>24</td>\n",
       "      <td>Female</td>\n",
       "      <td>Los Angeles</td>\n",
       "      <td>5</td>\n",
       "      <td>85.47</td>\n",
       "      <td>460</td>\n",
       "      <td>0</td>\n",
       "    </tr>\n",
       "    <tr>\n",
       "      <th>3</th>\n",
       "      <td>4</td>\n",
       "      <td>Customer_4</td>\n",
       "      <td>36</td>\n",
       "      <td>Female</td>\n",
       "      <td>Miami</td>\n",
       "      <td>3</td>\n",
       "      <td>97.94</td>\n",
       "      <td>297</td>\n",
       "      <td>1</td>\n",
       "    </tr>\n",
       "    <tr>\n",
       "      <th>4</th>\n",
       "      <td>5</td>\n",
       "      <td>Customer_5</td>\n",
       "      <td>46</td>\n",
       "      <td>Female</td>\n",
       "      <td>Miami</td>\n",
       "      <td>19</td>\n",
       "      <td>58.14</td>\n",
       "      <td>266</td>\n",
       "      <td>0</td>\n",
       "    </tr>\n",
       "  </tbody>\n",
       "</table>\n",
       "</div>"
      ],
      "text/plain": [
       "   CustomerID     Name     Age  Gender   Location    \\\n",
       "0       1      Customer_1  63     Male  Los Angeles   \n",
       "1       2      Customer_2  62   Female     New York   \n",
       "2       3      Customer_3  24   Female  Los Angeles   \n",
       "3       4      Customer_4  36   Female        Miami   \n",
       "4       5      Customer_5  46   Female        Miami   \n",
       "\n",
       "   Subscription_Length_Months  Monthly_Bill  Total_Usage_GB  Churn  \n",
       "0              17                  73.36           236         0    \n",
       "1               1                  48.76           172         0    \n",
       "2               5                  85.47           460         0    \n",
       "3               3                  97.94           297         1    \n",
       "4              19                  58.14           266         0    "
      ]
     },
     "execution_count": 33,
     "metadata": {},
     "output_type": "execute_result"
    }
   ],
   "source": [
    "df.head(5) #Display of dataset before the transformation"
   ]
  },
  {
   "cell_type": "code",
   "execution_count": 34,
   "id": "2b7c933e",
   "metadata": {},
   "outputs": [],
   "source": [
    "df_t= ct.fit_transform(df) #Transformation of the dataset"
   ]
  },
  {
   "cell_type": "code",
   "execution_count": 35,
   "id": "35e85d63",
   "metadata": {},
   "outputs": [
    {
     "data": {
      "text/plain": [
       "array(['standardscaler__Subscription_Length_Months',\n",
       "       'standardscaler__Monthly_Bill', 'standardscaler__Total_Usage_GB',\n",
       "       'onehotencoder__Gender_Female', 'onehotencoder__Gender_Male',\n",
       "       'onehotencoder__Location_Chicago',\n",
       "       'onehotencoder__Location_Houston',\n",
       "       'onehotencoder__Location_Los Angeles',\n",
       "       'onehotencoder__Location_Miami',\n",
       "       'onehotencoder__Location_New York', 'passthrough__Churn'],\n",
       "      dtype=object)"
      ]
     },
     "execution_count": 35,
     "metadata": {},
     "output_type": "execute_result"
    }
   ],
   "source": [
    "transformed_feature_names = ct.get_feature_names_out()\n",
    "transformed_feature_names #Display of different column names"
   ]
  },
  {
   "cell_type": "code",
   "execution_count": 36,
   "id": "da5681a1",
   "metadata": {},
   "outputs": [],
   "source": [
    "columns=ct.get_feature_names_out().tolist()\n",
    "df_t=pd.DataFrame(df_t,columns=columns) #Converting the transformed data into datafram"
   ]
  },
  {
   "cell_type": "code",
   "execution_count": 37,
   "id": "4650917a",
   "metadata": {},
   "outputs": [
    {
     "data": {
      "text/html": [
       "<div>\n",
       "<style scoped>\n",
       "    .dataframe tbody tr th:only-of-type {\n",
       "        vertical-align: middle;\n",
       "    }\n",
       "\n",
       "    .dataframe tbody tr th {\n",
       "        vertical-align: top;\n",
       "    }\n",
       "\n",
       "    .dataframe thead th {\n",
       "        text-align: right;\n",
       "    }\n",
       "</style>\n",
       "<table border=\"1\" class=\"dataframe\">\n",
       "  <thead>\n",
       "    <tr style=\"text-align: center;\">\n",
       "      <th></th>\n",
       "      <th>standardscaler__Subscription_Length_Months</th>\n",
       "      <th>standardscaler__Monthly_Bill</th>\n",
       "      <th>standardscaler__Total_Usage_GB</th>\n",
       "      <th>onehotencoder__Gender_Female</th>\n",
       "      <th>onehotencoder__Gender_Male</th>\n",
       "      <th>onehotencoder__Location_Chicago</th>\n",
       "      <th>onehotencoder__Location_Houston</th>\n",
       "      <th>onehotencoder__Location_Los Angeles</th>\n",
       "      <th>onehotencoder__Location_Miami</th>\n",
       "      <th>onehotencoder__Location_New York</th>\n",
       "      <th>passthrough__Churn</th>\n",
       "    </tr>\n",
       "  </thead>\n",
       "  <tbody>\n",
       "    <tr>\n",
       "      <th>0</th>\n",
       "      <td>0.651115</td>\n",
       "      <td>0.410606</td>\n",
       "      <td>-0.294289</td>\n",
       "      <td>0.0</td>\n",
       "      <td>1.0</td>\n",
       "      <td>0.0</td>\n",
       "      <td>0.0</td>\n",
       "      <td>1.0</td>\n",
       "      <td>0.0</td>\n",
       "      <td>0.0</td>\n",
       "      <td>0.0</td>\n",
       "    </tr>\n",
       "    <tr>\n",
       "      <th>1</th>\n",
       "      <td>-1.658879</td>\n",
       "      <td>-0.805374</td>\n",
       "      <td>-0.784852</td>\n",
       "      <td>1.0</td>\n",
       "      <td>0.0</td>\n",
       "      <td>0.0</td>\n",
       "      <td>0.0</td>\n",
       "      <td>0.0</td>\n",
       "      <td>0.0</td>\n",
       "      <td>1.0</td>\n",
       "      <td>0.0</td>\n",
       "    </tr>\n",
       "    <tr>\n",
       "      <th>2</th>\n",
       "      <td>-1.081380</td>\n",
       "      <td>1.009204</td>\n",
       "      <td>1.422681</td>\n",
       "      <td>1.0</td>\n",
       "      <td>0.0</td>\n",
       "      <td>0.0</td>\n",
       "      <td>0.0</td>\n",
       "      <td>1.0</td>\n",
       "      <td>0.0</td>\n",
       "      <td>0.0</td>\n",
       "      <td>0.0</td>\n",
       "    </tr>\n",
       "    <tr>\n",
       "      <th>3</th>\n",
       "      <td>-1.370129</td>\n",
       "      <td>1.625597</td>\n",
       "      <td>0.173279</td>\n",
       "      <td>1.0</td>\n",
       "      <td>0.0</td>\n",
       "      <td>0.0</td>\n",
       "      <td>0.0</td>\n",
       "      <td>0.0</td>\n",
       "      <td>1.0</td>\n",
       "      <td>0.0</td>\n",
       "      <td>1.0</td>\n",
       "    </tr>\n",
       "    <tr>\n",
       "      <th>4</th>\n",
       "      <td>0.939864</td>\n",
       "      <td>-0.341720</td>\n",
       "      <td>-0.064338</td>\n",
       "      <td>1.0</td>\n",
       "      <td>0.0</td>\n",
       "      <td>0.0</td>\n",
       "      <td>0.0</td>\n",
       "      <td>0.0</td>\n",
       "      <td>1.0</td>\n",
       "      <td>0.0</td>\n",
       "      <td>0.0</td>\n",
       "    </tr>\n",
       "  </tbody>\n",
       "</table>\n",
       "</div>"
      ],
      "text/plain": [
       "   standardscaler__Subscription_Length_Months  standardscaler__Monthly_Bill  \\\n",
       "0                   0.651115                             0.410606             \n",
       "1                  -1.658879                            -0.805374             \n",
       "2                  -1.081380                             1.009204             \n",
       "3                  -1.370129                             1.625597             \n",
       "4                   0.939864                            -0.341720             \n",
       "\n",
       "   standardscaler__Total_Usage_GB  onehotencoder__Gender_Female  \\\n",
       "0            -0.294289                          0.0               \n",
       "1            -0.784852                          1.0               \n",
       "2             1.422681                          1.0               \n",
       "3             0.173279                          1.0               \n",
       "4            -0.064338                          1.0               \n",
       "\n",
       "   onehotencoder__Gender_Male  onehotencoder__Location_Chicago  \\\n",
       "0              1.0                           0.0                 \n",
       "1              0.0                           0.0                 \n",
       "2              0.0                           0.0                 \n",
       "3              0.0                           0.0                 \n",
       "4              0.0                           0.0                 \n",
       "\n",
       "   onehotencoder__Location_Houston  onehotencoder__Location_Los Angeles  \\\n",
       "0                0.0                                1.0                   \n",
       "1                0.0                                0.0                   \n",
       "2                0.0                                1.0                   \n",
       "3                0.0                                0.0                   \n",
       "4                0.0                                0.0                   \n",
       "\n",
       "   onehotencoder__Location_Miami  onehotencoder__Location_New York  \\\n",
       "0               0.0                              0.0                 \n",
       "1               0.0                              1.0                 \n",
       "2               0.0                              0.0                 \n",
       "3               1.0                              0.0                 \n",
       "4               1.0                              0.0                 \n",
       "\n",
       "   passthrough__Churn  \n",
       "0          0.0         \n",
       "1          0.0         \n",
       "2          0.0         \n",
       "3          1.0         \n",
       "4          0.0         "
      ]
     },
     "execution_count": 37,
     "metadata": {},
     "output_type": "execute_result"
    }
   ],
   "source": [
    "df_t.head(5) #transformed dataset"
   ]
  },
  {
   "cell_type": "markdown",
   "id": "8f1050cc",
   "metadata": {},
   "source": [
    "# Model Building / Model Selection"
   ]
  },
  {
   "cell_type": "markdown",
   "id": "bb07709e",
   "metadata": {},
   "source": [
    "#### Using PyCaret, diverse machine learning models were assessed on the dataset. Evaluation metrics like accuracy, recall, and F1-score guided model selection. The optimal algorithm was chosen based on its performance trade-offs, leading to an informed decision on the best model for churn prediction."
   ]
  },
  {
   "cell_type": "code",
   "execution_count": 39,
   "id": "eceb05da",
   "metadata": {},
   "outputs": [],
   "source": [
    "#Train-Test split using sklearn.model_selection\n",
    "train_df, test_df = train_test_split(df_t, test_size=0.2, random_state=42)"
   ]
  },
  {
   "cell_type": "markdown",
   "id": "348d9cb4",
   "metadata": {},
   "source": [
    "## Model Comparision"
   ]
  },
  {
   "cell_type": "code",
   "execution_count": 40,
   "id": "16edaec8",
   "metadata": {},
   "outputs": [
    {
     "data": {
      "text/html": [
       "<style type=\"text/css\">\n",
       "#T_fd37e_row8_col1 {\n",
       "  background-color: lightgreen;\n",
       "}\n",
       "</style>\n",
       "<table id=\"T_fd37e\">\n",
       "  <thead>\n",
       "    <tr>\n",
       "      <th class=\"blank level0\" >&nbsp;</th>\n",
       "      <th id=\"T_fd37e_level0_col0\" class=\"col_heading level0 col0\" >Description</th>\n",
       "      <th id=\"T_fd37e_level0_col1\" class=\"col_heading level0 col1\" >Value</th>\n",
       "    </tr>\n",
       "  </thead>\n",
       "  <tbody>\n",
       "    <tr>\n",
       "      <th id=\"T_fd37e_level0_row0\" class=\"row_heading level0 row0\" >0</th>\n",
       "      <td id=\"T_fd37e_row0_col0\" class=\"data row0 col0\" >Session id</td>\n",
       "      <td id=\"T_fd37e_row0_col1\" class=\"data row0 col1\" >1974</td>\n",
       "    </tr>\n",
       "    <tr>\n",
       "      <th id=\"T_fd37e_level0_row1\" class=\"row_heading level0 row1\" >1</th>\n",
       "      <td id=\"T_fd37e_row1_col0\" class=\"data row1 col0\" >Target</td>\n",
       "      <td id=\"T_fd37e_row1_col1\" class=\"data row1 col1\" >passthrough__Churn</td>\n",
       "    </tr>\n",
       "    <tr>\n",
       "      <th id=\"T_fd37e_level0_row2\" class=\"row_heading level0 row2\" >2</th>\n",
       "      <td id=\"T_fd37e_row2_col0\" class=\"data row2 col0\" >Target type</td>\n",
       "      <td id=\"T_fd37e_row2_col1\" class=\"data row2 col1\" >Binary</td>\n",
       "    </tr>\n",
       "    <tr>\n",
       "      <th id=\"T_fd37e_level0_row3\" class=\"row_heading level0 row3\" >3</th>\n",
       "      <td id=\"T_fd37e_row3_col0\" class=\"data row3 col0\" >Original data shape</td>\n",
       "      <td id=\"T_fd37e_row3_col1\" class=\"data row3 col1\" >(80000, 11)</td>\n",
       "    </tr>\n",
       "    <tr>\n",
       "      <th id=\"T_fd37e_level0_row4\" class=\"row_heading level0 row4\" >4</th>\n",
       "      <td id=\"T_fd37e_row4_col0\" class=\"data row4 col0\" >Transformed data shape</td>\n",
       "      <td id=\"T_fd37e_row4_col1\" class=\"data row4 col1\" >(80000, 11)</td>\n",
       "    </tr>\n",
       "    <tr>\n",
       "      <th id=\"T_fd37e_level0_row5\" class=\"row_heading level0 row5\" >5</th>\n",
       "      <td id=\"T_fd37e_row5_col0\" class=\"data row5 col0\" >Transformed train set shape</td>\n",
       "      <td id=\"T_fd37e_row5_col1\" class=\"data row5 col1\" >(56000, 11)</td>\n",
       "    </tr>\n",
       "    <tr>\n",
       "      <th id=\"T_fd37e_level0_row6\" class=\"row_heading level0 row6\" >6</th>\n",
       "      <td id=\"T_fd37e_row6_col0\" class=\"data row6 col0\" >Transformed test set shape</td>\n",
       "      <td id=\"T_fd37e_row6_col1\" class=\"data row6 col1\" >(24000, 11)</td>\n",
       "    </tr>\n",
       "    <tr>\n",
       "      <th id=\"T_fd37e_level0_row7\" class=\"row_heading level0 row7\" >7</th>\n",
       "      <td id=\"T_fd37e_row7_col0\" class=\"data row7 col0\" >Numeric features</td>\n",
       "      <td id=\"T_fd37e_row7_col1\" class=\"data row7 col1\" >10</td>\n",
       "    </tr>\n",
       "    <tr>\n",
       "      <th id=\"T_fd37e_level0_row8\" class=\"row_heading level0 row8\" >8</th>\n",
       "      <td id=\"T_fd37e_row8_col0\" class=\"data row8 col0\" >Preprocess</td>\n",
       "      <td id=\"T_fd37e_row8_col1\" class=\"data row8 col1\" >True</td>\n",
       "    </tr>\n",
       "    <tr>\n",
       "      <th id=\"T_fd37e_level0_row9\" class=\"row_heading level0 row9\" >9</th>\n",
       "      <td id=\"T_fd37e_row9_col0\" class=\"data row9 col0\" >Imputation type</td>\n",
       "      <td id=\"T_fd37e_row9_col1\" class=\"data row9 col1\" >simple</td>\n",
       "    </tr>\n",
       "    <tr>\n",
       "      <th id=\"T_fd37e_level0_row10\" class=\"row_heading level0 row10\" >10</th>\n",
       "      <td id=\"T_fd37e_row10_col0\" class=\"data row10 col0\" >Numeric imputation</td>\n",
       "      <td id=\"T_fd37e_row10_col1\" class=\"data row10 col1\" >mean</td>\n",
       "    </tr>\n",
       "    <tr>\n",
       "      <th id=\"T_fd37e_level0_row11\" class=\"row_heading level0 row11\" >11</th>\n",
       "      <td id=\"T_fd37e_row11_col0\" class=\"data row11 col0\" >Categorical imputation</td>\n",
       "      <td id=\"T_fd37e_row11_col1\" class=\"data row11 col1\" >mode</td>\n",
       "    </tr>\n",
       "    <tr>\n",
       "      <th id=\"T_fd37e_level0_row12\" class=\"row_heading level0 row12\" >12</th>\n",
       "      <td id=\"T_fd37e_row12_col0\" class=\"data row12 col0\" >Fold Generator</td>\n",
       "      <td id=\"T_fd37e_row12_col1\" class=\"data row12 col1\" >StratifiedKFold</td>\n",
       "    </tr>\n",
       "    <tr>\n",
       "      <th id=\"T_fd37e_level0_row13\" class=\"row_heading level0 row13\" >13</th>\n",
       "      <td id=\"T_fd37e_row13_col0\" class=\"data row13 col0\" >Fold Number</td>\n",
       "      <td id=\"T_fd37e_row13_col1\" class=\"data row13 col1\" >10</td>\n",
       "    </tr>\n",
       "    <tr>\n",
       "      <th id=\"T_fd37e_level0_row14\" class=\"row_heading level0 row14\" >14</th>\n",
       "      <td id=\"T_fd37e_row14_col0\" class=\"data row14 col0\" >CPU Jobs</td>\n",
       "      <td id=\"T_fd37e_row14_col1\" class=\"data row14 col1\" >-1</td>\n",
       "    </tr>\n",
       "    <tr>\n",
       "      <th id=\"T_fd37e_level0_row15\" class=\"row_heading level0 row15\" >15</th>\n",
       "      <td id=\"T_fd37e_row15_col0\" class=\"data row15 col0\" >Use GPU</td>\n",
       "      <td id=\"T_fd37e_row15_col1\" class=\"data row15 col1\" >False</td>\n",
       "    </tr>\n",
       "    <tr>\n",
       "      <th id=\"T_fd37e_level0_row16\" class=\"row_heading level0 row16\" >16</th>\n",
       "      <td id=\"T_fd37e_row16_col0\" class=\"data row16 col0\" >Log Experiment</td>\n",
       "      <td id=\"T_fd37e_row16_col1\" class=\"data row16 col1\" >False</td>\n",
       "    </tr>\n",
       "    <tr>\n",
       "      <th id=\"T_fd37e_level0_row17\" class=\"row_heading level0 row17\" >17</th>\n",
       "      <td id=\"T_fd37e_row17_col0\" class=\"data row17 col0\" >Experiment Name</td>\n",
       "      <td id=\"T_fd37e_row17_col1\" class=\"data row17 col1\" >clf-default-name</td>\n",
       "    </tr>\n",
       "    <tr>\n",
       "      <th id=\"T_fd37e_level0_row18\" class=\"row_heading level0 row18\" >18</th>\n",
       "      <td id=\"T_fd37e_row18_col0\" class=\"data row18 col0\" >USI</td>\n",
       "      <td id=\"T_fd37e_row18_col1\" class=\"data row18 col1\" >b8bf</td>\n",
       "    </tr>\n",
       "  </tbody>\n",
       "</table>\n"
      ],
      "text/plain": [
       "<pandas.io.formats.style.Styler at 0x7f3c43ff0370>"
      ]
     },
     "metadata": {},
     "output_type": "display_data"
    },
    {
     "data": {
      "text/html": [],
      "text/plain": [
       "<IPython.core.display.HTML object>"
      ]
     },
     "metadata": {},
     "output_type": "display_data"
    },
    {
     "data": {
      "text/html": [
       "<style type=\"text/css\">\n",
       "#T_d511b th {\n",
       "  text-align: left;\n",
       "}\n",
       "#T_d511b_row0_col0, #T_d511b_row1_col0, #T_d511b_row1_col1, #T_d511b_row1_col2, #T_d511b_row1_col3, #T_d511b_row1_col4, #T_d511b_row1_col5, #T_d511b_row1_col6, #T_d511b_row1_col7, #T_d511b_row2_col0, #T_d511b_row2_col1, #T_d511b_row2_col2, #T_d511b_row2_col3, #T_d511b_row2_col4, #T_d511b_row2_col5, #T_d511b_row2_col6, #T_d511b_row2_col7, #T_d511b_row3_col0, #T_d511b_row3_col1, #T_d511b_row3_col2, #T_d511b_row3_col3, #T_d511b_row3_col4, #T_d511b_row3_col5, #T_d511b_row3_col6, #T_d511b_row3_col7, #T_d511b_row4_col0, #T_d511b_row4_col1, #T_d511b_row4_col2, #T_d511b_row4_col3, #T_d511b_row4_col4, #T_d511b_row4_col5, #T_d511b_row4_col6, #T_d511b_row4_col7, #T_d511b_row5_col0, #T_d511b_row5_col1, #T_d511b_row5_col2, #T_d511b_row5_col3, #T_d511b_row5_col4, #T_d511b_row5_col5, #T_d511b_row5_col6, #T_d511b_row5_col7, #T_d511b_row6_col0, #T_d511b_row6_col1, #T_d511b_row6_col2, #T_d511b_row6_col3, #T_d511b_row6_col4, #T_d511b_row6_col5, #T_d511b_row6_col6, #T_d511b_row6_col7, #T_d511b_row7_col0, #T_d511b_row7_col1, #T_d511b_row7_col2, #T_d511b_row7_col3, #T_d511b_row7_col4, #T_d511b_row7_col5, #T_d511b_row7_col6, #T_d511b_row7_col7, #T_d511b_row8_col0, #T_d511b_row8_col1, #T_d511b_row8_col2, #T_d511b_row8_col3, #T_d511b_row8_col4, #T_d511b_row8_col5, #T_d511b_row8_col6, #T_d511b_row8_col7, #T_d511b_row9_col0, #T_d511b_row9_col1, #T_d511b_row9_col2, #T_d511b_row9_col3, #T_d511b_row9_col4, #T_d511b_row9_col5, #T_d511b_row9_col6, #T_d511b_row9_col7, #T_d511b_row10_col0, #T_d511b_row10_col1, #T_d511b_row10_col2, #T_d511b_row10_col3, #T_d511b_row10_col4, #T_d511b_row10_col5, #T_d511b_row10_col6, #T_d511b_row10_col7, #T_d511b_row11_col0, #T_d511b_row11_col1, #T_d511b_row11_col2, #T_d511b_row11_col3, #T_d511b_row11_col4, #T_d511b_row11_col5, #T_d511b_row11_col6, #T_d511b_row11_col7, #T_d511b_row12_col0, #T_d511b_row12_col1, #T_d511b_row12_col2, #T_d511b_row12_col3, #T_d511b_row12_col4, #T_d511b_row12_col5, #T_d511b_row12_col6, #T_d511b_row12_col7, #T_d511b_row13_col0, #T_d511b_row13_col1, #T_d511b_row13_col2, #T_d511b_row13_col3, #T_d511b_row13_col4, #T_d511b_row13_col5, #T_d511b_row13_col6, #T_d511b_row13_col7, #T_d511b_row14_col0, #T_d511b_row14_col1, #T_d511b_row14_col2, #T_d511b_row14_col3, #T_d511b_row14_col4, #T_d511b_row14_col5, #T_d511b_row14_col6, #T_d511b_row14_col7 {\n",
       "  text-align: left;\n",
       "}\n",
       "#T_d511b_row0_col1, #T_d511b_row0_col2, #T_d511b_row0_col3, #T_d511b_row0_col4, #T_d511b_row0_col5, #T_d511b_row0_col6, #T_d511b_row0_col7 {\n",
       "  text-align: left;\n",
       "  background-color: yellow;\n",
       "}\n",
       "#T_d511b_row0_col8, #T_d511b_row1_col8, #T_d511b_row2_col8, #T_d511b_row3_col8, #T_d511b_row4_col8, #T_d511b_row5_col8, #T_d511b_row6_col8, #T_d511b_row7_col8, #T_d511b_row8_col8, #T_d511b_row9_col8, #T_d511b_row10_col8, #T_d511b_row11_col8, #T_d511b_row12_col8, #T_d511b_row13_col8 {\n",
       "  text-align: left;\n",
       "  background-color: lightgrey;\n",
       "}\n",
       "#T_d511b_row14_col8 {\n",
       "  text-align: left;\n",
       "  background-color: yellow;\n",
       "  background-color: lightgrey;\n",
       "}\n",
       "</style>\n",
       "<table id=\"T_d511b\">\n",
       "  <thead>\n",
       "    <tr>\n",
       "      <th class=\"blank level0\" >&nbsp;</th>\n",
       "      <th id=\"T_d511b_level0_col0\" class=\"col_heading level0 col0\" >Model</th>\n",
       "      <th id=\"T_d511b_level0_col1\" class=\"col_heading level0 col1\" >Accuracy</th>\n",
       "      <th id=\"T_d511b_level0_col2\" class=\"col_heading level0 col2\" >AUC</th>\n",
       "      <th id=\"T_d511b_level0_col3\" class=\"col_heading level0 col3\" >Recall</th>\n",
       "      <th id=\"T_d511b_level0_col4\" class=\"col_heading level0 col4\" >Prec.</th>\n",
       "      <th id=\"T_d511b_level0_col5\" class=\"col_heading level0 col5\" >F1</th>\n",
       "      <th id=\"T_d511b_level0_col6\" class=\"col_heading level0 col6\" >Kappa</th>\n",
       "      <th id=\"T_d511b_level0_col7\" class=\"col_heading level0 col7\" >MCC</th>\n",
       "      <th id=\"T_d511b_level0_col8\" class=\"col_heading level0 col8\" >TT (Sec)</th>\n",
       "    </tr>\n",
       "  </thead>\n",
       "  <tbody>\n",
       "    <tr>\n",
       "      <th id=\"T_d511b_level0_row0\" class=\"row_heading level0 row0\" >nb</th>\n",
       "      <td id=\"T_d511b_row0_col0\" class=\"data row0 col0\" >Naive Bayes</td>\n",
       "      <td id=\"T_d511b_row0_col1\" class=\"data row0 col1\" >0.5029</td>\n",
       "      <td id=\"T_d511b_row0_col2\" class=\"data row0 col2\" >0.5024</td>\n",
       "      <td id=\"T_d511b_row0_col3\" class=\"data row0 col3\" >0.5390</td>\n",
       "      <td id=\"T_d511b_row0_col4\" class=\"data row0 col4\" >0.5010</td>\n",
       "      <td id=\"T_d511b_row0_col5\" class=\"data row0 col5\" >0.5186</td>\n",
       "      <td id=\"T_d511b_row0_col6\" class=\"data row0 col6\" >0.0061</td>\n",
       "      <td id=\"T_d511b_row0_col7\" class=\"data row0 col7\" >0.0061</td>\n",
       "      <td id=\"T_d511b_row0_col8\" class=\"data row0 col8\" >0.0390</td>\n",
       "    </tr>\n",
       "    <tr>\n",
       "      <th id=\"T_d511b_level0_row1\" class=\"row_heading level0 row1\" >dt</th>\n",
       "      <td id=\"T_d511b_row1_col0\" class=\"data row1 col0\" >Decision Tree Classifier</td>\n",
       "      <td id=\"T_d511b_row1_col1\" class=\"data row1 col1\" >0.5022</td>\n",
       "      <td id=\"T_d511b_row1_col2\" class=\"data row1 col2\" >0.5022</td>\n",
       "      <td id=\"T_d511b_row1_col3\" class=\"data row1 col3\" >0.4996</td>\n",
       "      <td id=\"T_d511b_row1_col4\" class=\"data row1 col4\" >0.5005</td>\n",
       "      <td id=\"T_d511b_row1_col5\" class=\"data row1 col5\" >0.5000</td>\n",
       "      <td id=\"T_d511b_row1_col6\" class=\"data row1 col6\" >0.0045</td>\n",
       "      <td id=\"T_d511b_row1_col7\" class=\"data row1 col7\" >0.0045</td>\n",
       "      <td id=\"T_d511b_row1_col8\" class=\"data row1 col8\" >0.0810</td>\n",
       "    </tr>\n",
       "    <tr>\n",
       "      <th id=\"T_d511b_level0_row2\" class=\"row_heading level0 row2\" >lr</th>\n",
       "      <td id=\"T_d511b_row2_col0\" class=\"data row2 col0\" >Logistic Regression</td>\n",
       "      <td id=\"T_d511b_row2_col1\" class=\"data row2 col1\" >0.5012</td>\n",
       "      <td id=\"T_d511b_row2_col2\" class=\"data row2 col2\" >0.5014</td>\n",
       "      <td id=\"T_d511b_row2_col3\" class=\"data row2 col3\" >0.4520</td>\n",
       "      <td id=\"T_d511b_row2_col4\" class=\"data row2 col4\" >0.4991</td>\n",
       "      <td id=\"T_d511b_row2_col5\" class=\"data row2 col5\" >0.4738</td>\n",
       "      <td id=\"T_d511b_row2_col6\" class=\"data row2 col6\" >0.0021</td>\n",
       "      <td id=\"T_d511b_row2_col7\" class=\"data row2 col7\" >0.0021</td>\n",
       "      <td id=\"T_d511b_row2_col8\" class=\"data row2 col8\" >0.3560</td>\n",
       "    </tr>\n",
       "    <tr>\n",
       "      <th id=\"T_d511b_level0_row3\" class=\"row_heading level0 row3\" >lda</th>\n",
       "      <td id=\"T_d511b_row3_col0\" class=\"data row3 col0\" >Linear Discriminant Analysis</td>\n",
       "      <td id=\"T_d511b_row3_col1\" class=\"data row3 col1\" >0.5012</td>\n",
       "      <td id=\"T_d511b_row3_col2\" class=\"data row3 col2\" >0.5014</td>\n",
       "      <td id=\"T_d511b_row3_col3\" class=\"data row3 col3\" >0.4519</td>\n",
       "      <td id=\"T_d511b_row3_col4\" class=\"data row3 col4\" >0.4991</td>\n",
       "      <td id=\"T_d511b_row3_col5\" class=\"data row3 col5\" >0.4737</td>\n",
       "      <td id=\"T_d511b_row3_col6\" class=\"data row3 col6\" >0.0020</td>\n",
       "      <td id=\"T_d511b_row3_col7\" class=\"data row3 col7\" >0.0020</td>\n",
       "      <td id=\"T_d511b_row3_col8\" class=\"data row3 col8\" >0.0640</td>\n",
       "    </tr>\n",
       "    <tr>\n",
       "      <th id=\"T_d511b_level0_row4\" class=\"row_heading level0 row4\" >rf</th>\n",
       "      <td id=\"T_d511b_row4_col0\" class=\"data row4 col0\" >Random Forest Classifier</td>\n",
       "      <td id=\"T_d511b_row4_col1\" class=\"data row4 col1\" >0.5014</td>\n",
       "      <td id=\"T_d511b_row4_col2\" class=\"data row4 col2\" >0.5005</td>\n",
       "      <td id=\"T_d511b_row4_col3\" class=\"data row4 col3\" >0.4866</td>\n",
       "      <td id=\"T_d511b_row4_col4\" class=\"data row4 col4\" >0.4996</td>\n",
       "      <td id=\"T_d511b_row4_col5\" class=\"data row4 col5\" >0.4930</td>\n",
       "      <td id=\"T_d511b_row4_col6\" class=\"data row4 col6\" >0.0027</td>\n",
       "      <td id=\"T_d511b_row4_col7\" class=\"data row4 col7\" >0.0027</td>\n",
       "      <td id=\"T_d511b_row4_col8\" class=\"data row4 col8\" >1.4990</td>\n",
       "    </tr>\n",
       "    <tr>\n",
       "      <th id=\"T_d511b_level0_row5\" class=\"row_heading level0 row5\" >dummy</th>\n",
       "      <td id=\"T_d511b_row5_col0\" class=\"data row5 col0\" >Dummy Classifier</td>\n",
       "      <td id=\"T_d511b_row5_col1\" class=\"data row5 col1\" >0.5018</td>\n",
       "      <td id=\"T_d511b_row5_col2\" class=\"data row5 col2\" >0.5000</td>\n",
       "      <td id=\"T_d511b_row5_col3\" class=\"data row5 col3\" >0.0000</td>\n",
       "      <td id=\"T_d511b_row5_col4\" class=\"data row5 col4\" >0.0000</td>\n",
       "      <td id=\"T_d511b_row5_col5\" class=\"data row5 col5\" >0.0000</td>\n",
       "      <td id=\"T_d511b_row5_col6\" class=\"data row5 col6\" >0.0000</td>\n",
       "      <td id=\"T_d511b_row5_col7\" class=\"data row5 col7\" >0.0000</td>\n",
       "      <td id=\"T_d511b_row5_col8\" class=\"data row5 col8\" >0.0390</td>\n",
       "    </tr>\n",
       "    <tr>\n",
       "      <th id=\"T_d511b_level0_row6\" class=\"row_heading level0 row6\" >et</th>\n",
       "      <td id=\"T_d511b_row6_col0\" class=\"data row6 col0\" >Extra Trees Classifier</td>\n",
       "      <td id=\"T_d511b_row6_col1\" class=\"data row6 col1\" >0.4986</td>\n",
       "      <td id=\"T_d511b_row6_col2\" class=\"data row6 col2\" >0.4995</td>\n",
       "      <td id=\"T_d511b_row6_col3\" class=\"data row6 col3\" >0.4878</td>\n",
       "      <td id=\"T_d511b_row6_col4\" class=\"data row6 col4\" >0.4968</td>\n",
       "      <td id=\"T_d511b_row6_col5\" class=\"data row6 col5\" >0.4922</td>\n",
       "      <td id=\"T_d511b_row6_col6\" class=\"data row6 col6\" >-0.0029</td>\n",
       "      <td id=\"T_d511b_row6_col7\" class=\"data row6 col7\" >-0.0029</td>\n",
       "      <td id=\"T_d511b_row6_col8\" class=\"data row6 col8\" >1.5590</td>\n",
       "    </tr>\n",
       "    <tr>\n",
       "      <th id=\"T_d511b_level0_row7\" class=\"row_heading level0 row7\" >qda</th>\n",
       "      <td id=\"T_d511b_row7_col0\" class=\"data row7 col0\" >Quadratic Discriminant Analysis</td>\n",
       "      <td id=\"T_d511b_row7_col1\" class=\"data row7 col1\" >0.4996</td>\n",
       "      <td id=\"T_d511b_row7_col2\" class=\"data row7 col2\" >0.4994</td>\n",
       "      <td id=\"T_d511b_row7_col3\" class=\"data row7 col3\" >0.4459</td>\n",
       "      <td id=\"T_d511b_row7_col4\" class=\"data row7 col4\" >0.3945</td>\n",
       "      <td id=\"T_d511b_row7_col5\" class=\"data row7 col5\" >0.3939</td>\n",
       "      <td id=\"T_d511b_row7_col6\" class=\"data row7 col6\" >-0.0012</td>\n",
       "      <td id=\"T_d511b_row7_col7\" class=\"data row7 col7\" >-0.0025</td>\n",
       "      <td id=\"T_d511b_row7_col8\" class=\"data row7 col8\" >0.0630</td>\n",
       "    </tr>\n",
       "    <tr>\n",
       "      <th id=\"T_d511b_level0_row8\" class=\"row_heading level0 row8\" >lightgbm</th>\n",
       "      <td id=\"T_d511b_row8_col0\" class=\"data row8 col0\" >Light Gradient Boosting Machine</td>\n",
       "      <td id=\"T_d511b_row8_col1\" class=\"data row8 col1\" >0.4988</td>\n",
       "      <td id=\"T_d511b_row8_col2\" class=\"data row8 col2\" >0.4994</td>\n",
       "      <td id=\"T_d511b_row8_col3\" class=\"data row8 col3\" >0.4435</td>\n",
       "      <td id=\"T_d511b_row8_col4\" class=\"data row8 col4\" >0.4965</td>\n",
       "      <td id=\"T_d511b_row8_col5\" class=\"data row8 col5\" >0.4683</td>\n",
       "      <td id=\"T_d511b_row8_col6\" class=\"data row8 col6\" >-0.0029</td>\n",
       "      <td id=\"T_d511b_row8_col7\" class=\"data row8 col7\" >-0.0029</td>\n",
       "      <td id=\"T_d511b_row8_col8\" class=\"data row8 col8\" >156.3860</td>\n",
       "    </tr>\n",
       "    <tr>\n",
       "      <th id=\"T_d511b_level0_row9\" class=\"row_heading level0 row9\" >gbc</th>\n",
       "      <td id=\"T_d511b_row9_col0\" class=\"data row9 col0\" >Gradient Boosting Classifier</td>\n",
       "      <td id=\"T_d511b_row9_col1\" class=\"data row9 col1\" >0.4993</td>\n",
       "      <td id=\"T_d511b_row9_col2\" class=\"data row9 col2\" >0.4989</td>\n",
       "      <td id=\"T_d511b_row9_col3\" class=\"data row9 col3\" >0.4248</td>\n",
       "      <td id=\"T_d511b_row9_col4\" class=\"data row9 col4\" >0.4971</td>\n",
       "      <td id=\"T_d511b_row9_col5\" class=\"data row9 col5\" >0.4580</td>\n",
       "      <td id=\"T_d511b_row9_col6\" class=\"data row9 col6\" >-0.0019</td>\n",
       "      <td id=\"T_d511b_row9_col7\" class=\"data row9 col7\" >-0.0019</td>\n",
       "      <td id=\"T_d511b_row9_col8\" class=\"data row9 col8\" >1.0040</td>\n",
       "    </tr>\n",
       "    <tr>\n",
       "      <th id=\"T_d511b_level0_row10\" class=\"row_heading level0 row10\" >ada</th>\n",
       "      <td id=\"T_d511b_row10_col0\" class=\"data row10 col0\" >Ada Boost Classifier</td>\n",
       "      <td id=\"T_d511b_row10_col1\" class=\"data row10 col1\" >0.5005</td>\n",
       "      <td id=\"T_d511b_row10_col2\" class=\"data row10 col2\" >0.4978</td>\n",
       "      <td id=\"T_d511b_row10_col3\" class=\"data row10 col3\" >0.4306</td>\n",
       "      <td id=\"T_d511b_row10_col4\" class=\"data row10 col4\" >0.4987</td>\n",
       "      <td id=\"T_d511b_row10_col5\" class=\"data row10 col5\" >0.4620</td>\n",
       "      <td id=\"T_d511b_row10_col6\" class=\"data row10 col6\" >0.0006</td>\n",
       "      <td id=\"T_d511b_row10_col7\" class=\"data row10 col7\" >0.0006</td>\n",
       "      <td id=\"T_d511b_row10_col8\" class=\"data row10 col8\" >0.3480</td>\n",
       "    </tr>\n",
       "    <tr>\n",
       "      <th id=\"T_d511b_level0_row11\" class=\"row_heading level0 row11\" >knn</th>\n",
       "      <td id=\"T_d511b_row11_col0\" class=\"data row11 col0\" >K Neighbors Classifier</td>\n",
       "      <td id=\"T_d511b_row11_col1\" class=\"data row11 col1\" >0.4994</td>\n",
       "      <td id=\"T_d511b_row11_col2\" class=\"data row11 col2\" >0.4976</td>\n",
       "      <td id=\"T_d511b_row11_col3\" class=\"data row11 col3\" >0.4964</td>\n",
       "      <td id=\"T_d511b_row11_col4\" class=\"data row11 col4\" >0.4976</td>\n",
       "      <td id=\"T_d511b_row11_col5\" class=\"data row11 col5\" >0.4970</td>\n",
       "      <td id=\"T_d511b_row11_col6\" class=\"data row11 col6\" >-0.0013</td>\n",
       "      <td id=\"T_d511b_row11_col7\" class=\"data row11 col7\" >-0.0013</td>\n",
       "      <td id=\"T_d511b_row11_col8\" class=\"data row11 col8\" >0.2650</td>\n",
       "    </tr>\n",
       "    <tr>\n",
       "      <th id=\"T_d511b_level0_row12\" class=\"row_heading level0 row12\" >xgboost</th>\n",
       "      <td id=\"T_d511b_row12_col0\" class=\"data row12 col0\" >Extreme Gradient Boosting</td>\n",
       "      <td id=\"T_d511b_row12_col1\" class=\"data row12 col1\" >0.4984</td>\n",
       "      <td id=\"T_d511b_row12_col2\" class=\"data row12 col2\" >0.4959</td>\n",
       "      <td id=\"T_d511b_row12_col3\" class=\"data row12 col3\" >0.4758</td>\n",
       "      <td id=\"T_d511b_row12_col4\" class=\"data row12 col4\" >0.4965</td>\n",
       "      <td id=\"T_d511b_row12_col5\" class=\"data row12 col5\" >0.4859</td>\n",
       "      <td id=\"T_d511b_row12_col6\" class=\"data row12 col6\" >-0.0033</td>\n",
       "      <td id=\"T_d511b_row12_col7\" class=\"data row12 col7\" >-0.0033</td>\n",
       "      <td id=\"T_d511b_row12_col8\" class=\"data row12 col8\" >0.8520</td>\n",
       "    </tr>\n",
       "    <tr>\n",
       "      <th id=\"T_d511b_level0_row13\" class=\"row_heading level0 row13\" >svm</th>\n",
       "      <td id=\"T_d511b_row13_col0\" class=\"data row13 col0\" >SVM - Linear Kernel</td>\n",
       "      <td id=\"T_d511b_row13_col1\" class=\"data row13 col1\" >0.5014</td>\n",
       "      <td id=\"T_d511b_row13_col2\" class=\"data row13 col2\" >0.0000</td>\n",
       "      <td id=\"T_d511b_row13_col3\" class=\"data row13 col3\" >0.3216</td>\n",
       "      <td id=\"T_d511b_row13_col4\" class=\"data row13 col4\" >0.5001</td>\n",
       "      <td id=\"T_d511b_row13_col5\" class=\"data row13 col5\" >0.3747</td>\n",
       "      <td id=\"T_d511b_row13_col6\" class=\"data row13 col6\" >0.0015</td>\n",
       "      <td id=\"T_d511b_row13_col7\" class=\"data row13 col7\" >0.0018</td>\n",
       "      <td id=\"T_d511b_row13_col8\" class=\"data row13 col8\" >0.0650</td>\n",
       "    </tr>\n",
       "    <tr>\n",
       "      <th id=\"T_d511b_level0_row14\" class=\"row_heading level0 row14\" >ridge</th>\n",
       "      <td id=\"T_d511b_row14_col0\" class=\"data row14 col0\" >Ridge Classifier</td>\n",
       "      <td id=\"T_d511b_row14_col1\" class=\"data row14 col1\" >0.5012</td>\n",
       "      <td id=\"T_d511b_row14_col2\" class=\"data row14 col2\" >0.0000</td>\n",
       "      <td id=\"T_d511b_row14_col3\" class=\"data row14 col3\" >0.4520</td>\n",
       "      <td id=\"T_d511b_row14_col4\" class=\"data row14 col4\" >0.4992</td>\n",
       "      <td id=\"T_d511b_row14_col5\" class=\"data row14 col5\" >0.4738</td>\n",
       "      <td id=\"T_d511b_row14_col6\" class=\"data row14 col6\" >0.0021</td>\n",
       "      <td id=\"T_d511b_row14_col7\" class=\"data row14 col7\" >0.0021</td>\n",
       "      <td id=\"T_d511b_row14_col8\" class=\"data row14 col8\" >0.0300</td>\n",
       "    </tr>\n",
       "  </tbody>\n",
       "</table>\n"
      ],
      "text/plain": [
       "<pandas.io.formats.style.Styler at 0x7f3c49fc17e0>"
      ]
     },
     "metadata": {},
     "output_type": "display_data"
    },
    {
     "data": {
      "text/html": [],
      "text/plain": [
       "<IPython.core.display.HTML object>"
      ]
     },
     "metadata": {},
     "output_type": "display_data"
    }
   ],
   "source": [
    "models = setup(data=train_df, target='passthrough__Churn')\n",
    "best_models = compare_models(sort='AUC')"
   ]
  },
  {
   "cell_type": "code",
   "execution_count": 43,
   "id": "fce9c297",
   "metadata": {},
   "outputs": [
    {
     "data": {
      "text/html": [
       "<style>#sk-container-id-1 {color: black;background-color: white;}#sk-container-id-1 pre{padding: 0;}#sk-container-id-1 div.sk-toggleable {background-color: white;}#sk-container-id-1 label.sk-toggleable__label {cursor: pointer;display: block;width: 100%;margin-bottom: 0;padding: 0.3em;box-sizing: border-box;text-align: center;}#sk-container-id-1 label.sk-toggleable__label-arrow:before {content: \"▸\";float: left;margin-right: 0.25em;color: #696969;}#sk-container-id-1 label.sk-toggleable__label-arrow:hover:before {color: black;}#sk-container-id-1 div.sk-estimator:hover label.sk-toggleable__label-arrow:before {color: black;}#sk-container-id-1 div.sk-toggleable__content {max-height: 0;max-width: 0;overflow: hidden;text-align: left;background-color: #f0f8ff;}#sk-container-id-1 div.sk-toggleable__content pre {margin: 0.2em;color: black;border-radius: 0.25em;background-color: #f0f8ff;}#sk-container-id-1 input.sk-toggleable__control:checked~div.sk-toggleable__content {max-height: 200px;max-width: 100%;overflow: auto;}#sk-container-id-1 input.sk-toggleable__control:checked~label.sk-toggleable__label-arrow:before {content: \"▾\";}#sk-container-id-1 div.sk-estimator input.sk-toggleable__control:checked~label.sk-toggleable__label {background-color: #d4ebff;}#sk-container-id-1 div.sk-label input.sk-toggleable__control:checked~label.sk-toggleable__label {background-color: #d4ebff;}#sk-container-id-1 input.sk-hidden--visually {border: 0;clip: rect(1px 1px 1px 1px);clip: rect(1px, 1px, 1px, 1px);height: 1px;margin: -1px;overflow: hidden;padding: 0;position: absolute;width: 1px;}#sk-container-id-1 div.sk-estimator {font-family: monospace;background-color: #f0f8ff;border: 1px dotted black;border-radius: 0.25em;box-sizing: border-box;margin-bottom: 0.5em;}#sk-container-id-1 div.sk-estimator:hover {background-color: #d4ebff;}#sk-container-id-1 div.sk-parallel-item::after {content: \"\";width: 100%;border-bottom: 1px solid gray;flex-grow: 1;}#sk-container-id-1 div.sk-label:hover label.sk-toggleable__label {background-color: #d4ebff;}#sk-container-id-1 div.sk-serial::before {content: \"\";position: absolute;border-left: 1px solid gray;box-sizing: border-box;top: 0;bottom: 0;left: 50%;z-index: 0;}#sk-container-id-1 div.sk-serial {display: flex;flex-direction: column;align-items: center;background-color: white;padding-right: 0.2em;padding-left: 0.2em;position: relative;}#sk-container-id-1 div.sk-item {position: relative;z-index: 1;}#sk-container-id-1 div.sk-parallel {display: flex;align-items: stretch;justify-content: center;background-color: white;position: relative;}#sk-container-id-1 div.sk-item::before, #sk-container-id-1 div.sk-parallel-item::before {content: \"\";position: absolute;border-left: 1px solid gray;box-sizing: border-box;top: 0;bottom: 0;left: 50%;z-index: -1;}#sk-container-id-1 div.sk-parallel-item {display: flex;flex-direction: column;z-index: 1;position: relative;background-color: white;}#sk-container-id-1 div.sk-parallel-item:first-child::after {align-self: flex-end;width: 50%;}#sk-container-id-1 div.sk-parallel-item:last-child::after {align-self: flex-start;width: 50%;}#sk-container-id-1 div.sk-parallel-item:only-child::after {width: 0;}#sk-container-id-1 div.sk-dashed-wrapped {border: 1px dashed gray;margin: 0 0.4em 0.5em 0.4em;box-sizing: border-box;padding-bottom: 0.4em;background-color: white;}#sk-container-id-1 div.sk-label label {font-family: monospace;font-weight: bold;display: inline-block;line-height: 1.2em;}#sk-container-id-1 div.sk-label-container {text-align: center;}#sk-container-id-1 div.sk-container {/* jupyter's `normalize.less` sets `[hidden] { display: none; }` but bootstrap.min.css set `[hidden] { display: none !important; }` so we also need the `!important` here to be able to override the default hidden behavior on the sphinx rendered scikit-learn.org. See: https://github.com/scikit-learn/scikit-learn/issues/21755 */display: inline-block !important;position: relative;}#sk-container-id-1 div.sk-text-repr-fallback {display: none;}</style><div id=\"sk-container-id-1\" class=\"sk-top-container\"><div class=\"sk-text-repr-fallback\"><pre>GaussianNB(priors=None, var_smoothing=1e-09)</pre><b>In a Jupyter environment, please rerun this cell to show the HTML representation or trust the notebook. <br />On GitHub, the HTML representation is unable to render, please try loading this page with nbviewer.org.</b></div><div class=\"sk-container\" hidden><div class=\"sk-item\"><div class=\"sk-estimator sk-toggleable\"><input class=\"sk-toggleable__control sk-hidden--visually\" id=\"sk-estimator-id-1\" type=\"checkbox\" checked><label for=\"sk-estimator-id-1\" class=\"sk-toggleable__label sk-toggleable__label-arrow\">GaussianNB</label><div class=\"sk-toggleable__content\"><pre>GaussianNB(priors=None, var_smoothing=1e-09)</pre></div></div></div></div></div>"
      ],
      "text/plain": [
       "GaussianNB(priors=None, var_smoothing=1e-09)"
      ]
     },
     "execution_count": 43,
     "metadata": {},
     "output_type": "execute_result"
    }
   ],
   "source": [
    "best_models #Choosing the best model"
   ]
  },
  {
   "cell_type": "markdown",
   "id": "4254f1e5",
   "metadata": {},
   "source": [
    "## FineTuning the model"
   ]
  },
  {
   "cell_type": "markdown",
   "id": "fa1977c6",
   "metadata": {},
   "source": [
    "#### Model fine-tuning refined the selected algorithm's performance. Hyperparameters were adjusted using techniques like grid search or random search. This process optimized the model's configuration, enhancing its predictive capabilities on the dataset and increasing overall accuracy in churn prediction."
   ]
  },
  {
   "cell_type": "code",
   "execution_count": 44,
   "id": "b7fe06e1",
   "metadata": {},
   "outputs": [
    {
     "data": {
      "text/html": [],
      "text/plain": [
       "<IPython.core.display.HTML object>"
      ]
     },
     "metadata": {},
     "output_type": "display_data"
    },
    {
     "data": {
      "text/html": [
       "<style type=\"text/css\">\n",
       "#T_6e3bb_row10_col0, #T_6e3bb_row10_col1, #T_6e3bb_row10_col2, #T_6e3bb_row10_col3, #T_6e3bb_row10_col4, #T_6e3bb_row10_col5, #T_6e3bb_row10_col6 {\n",
       "  background: yellow;\n",
       "}\n",
       "</style>\n",
       "<table id=\"T_6e3bb\">\n",
       "  <thead>\n",
       "    <tr>\n",
       "      <th class=\"blank level0\" >&nbsp;</th>\n",
       "      <th id=\"T_6e3bb_level0_col0\" class=\"col_heading level0 col0\" >Accuracy</th>\n",
       "      <th id=\"T_6e3bb_level0_col1\" class=\"col_heading level0 col1\" >AUC</th>\n",
       "      <th id=\"T_6e3bb_level0_col2\" class=\"col_heading level0 col2\" >Recall</th>\n",
       "      <th id=\"T_6e3bb_level0_col3\" class=\"col_heading level0 col3\" >Prec.</th>\n",
       "      <th id=\"T_6e3bb_level0_col4\" class=\"col_heading level0 col4\" >F1</th>\n",
       "      <th id=\"T_6e3bb_level0_col5\" class=\"col_heading level0 col5\" >Kappa</th>\n",
       "      <th id=\"T_6e3bb_level0_col6\" class=\"col_heading level0 col6\" >MCC</th>\n",
       "    </tr>\n",
       "    <tr>\n",
       "      <th class=\"index_name level0\" >Fold</th>\n",
       "      <th class=\"blank col0\" >&nbsp;</th>\n",
       "      <th class=\"blank col1\" >&nbsp;</th>\n",
       "      <th class=\"blank col2\" >&nbsp;</th>\n",
       "      <th class=\"blank col3\" >&nbsp;</th>\n",
       "      <th class=\"blank col4\" >&nbsp;</th>\n",
       "      <th class=\"blank col5\" >&nbsp;</th>\n",
       "      <th class=\"blank col6\" >&nbsp;</th>\n",
       "    </tr>\n",
       "  </thead>\n",
       "  <tbody>\n",
       "    <tr>\n",
       "      <th id=\"T_6e3bb_level0_row0\" class=\"row_heading level0 row0\" >0</th>\n",
       "      <td id=\"T_6e3bb_row0_col0\" class=\"data row0 col0\" >0.5098</td>\n",
       "      <td id=\"T_6e3bb_row0_col1\" class=\"data row0 col1\" >0.5025</td>\n",
       "      <td id=\"T_6e3bb_row0_col2\" class=\"data row0 col2\" >0.5473</td>\n",
       "      <td id=\"T_6e3bb_row0_col3\" class=\"data row0 col3\" >0.5075</td>\n",
       "      <td id=\"T_6e3bb_row0_col4\" class=\"data row0 col4\" >0.5266</td>\n",
       "      <td id=\"T_6e3bb_row0_col5\" class=\"data row0 col5\" >0.0199</td>\n",
       "      <td id=\"T_6e3bb_row0_col6\" class=\"data row0 col6\" >0.0200</td>\n",
       "    </tr>\n",
       "    <tr>\n",
       "      <th id=\"T_6e3bb_level0_row1\" class=\"row_heading level0 row1\" >1</th>\n",
       "      <td id=\"T_6e3bb_row1_col0\" class=\"data row1 col0\" >0.4948</td>\n",
       "      <td id=\"T_6e3bb_row1_col1\" class=\"data row1 col1\" >0.4934</td>\n",
       "      <td id=\"T_6e3bb_row1_col2\" class=\"data row1 col2\" >0.4498</td>\n",
       "      <td id=\"T_6e3bb_row1_col3\" class=\"data row1 col3\" >0.4923</td>\n",
       "      <td id=\"T_6e3bb_row1_col4\" class=\"data row1 col4\" >0.4701</td>\n",
       "      <td id=\"T_6e3bb_row1_col5\" class=\"data row1 col5\" >-0.0107</td>\n",
       "      <td id=\"T_6e3bb_row1_col6\" class=\"data row1 col6\" >-0.0107</td>\n",
       "    </tr>\n",
       "    <tr>\n",
       "      <th id=\"T_6e3bb_level0_row2\" class=\"row_heading level0 row2\" >2</th>\n",
       "      <td id=\"T_6e3bb_row2_col0\" class=\"data row2 col0\" >0.5080</td>\n",
       "      <td id=\"T_6e3bb_row2_col1\" class=\"data row2 col1\" >0.5139</td>\n",
       "      <td id=\"T_6e3bb_row2_col2\" class=\"data row2 col2\" >0.5233</td>\n",
       "      <td id=\"T_6e3bb_row2_col3\" class=\"data row2 col3\" >0.5061</td>\n",
       "      <td id=\"T_6e3bb_row2_col4\" class=\"data row2 col4\" >0.5145</td>\n",
       "      <td id=\"T_6e3bb_row2_col5\" class=\"data row2 col5\" >0.0162</td>\n",
       "      <td id=\"T_6e3bb_row2_col6\" class=\"data row2 col6\" >0.0162</td>\n",
       "    </tr>\n",
       "    <tr>\n",
       "      <th id=\"T_6e3bb_level0_row3\" class=\"row_heading level0 row3\" >3</th>\n",
       "      <td id=\"T_6e3bb_row3_col0\" class=\"data row3 col0\" >0.5057</td>\n",
       "      <td id=\"T_6e3bb_row3_col1\" class=\"data row3 col1\" >0.4990</td>\n",
       "      <td id=\"T_6e3bb_row3_col2\" class=\"data row3 col2\" >0.5251</td>\n",
       "      <td id=\"T_6e3bb_row3_col3\" class=\"data row3 col3\" >0.5038</td>\n",
       "      <td id=\"T_6e3bb_row3_col4\" class=\"data row3 col4\" >0.5142</td>\n",
       "      <td id=\"T_6e3bb_row3_col5\" class=\"data row3 col5\" >0.0116</td>\n",
       "      <td id=\"T_6e3bb_row3_col6\" class=\"data row3 col6\" >0.0116</td>\n",
       "    </tr>\n",
       "    <tr>\n",
       "      <th id=\"T_6e3bb_level0_row4\" class=\"row_heading level0 row4\" >4</th>\n",
       "      <td id=\"T_6e3bb_row4_col0\" class=\"data row4 col0\" >0.5088</td>\n",
       "      <td id=\"T_6e3bb_row4_col1\" class=\"data row4 col1\" >0.5125</td>\n",
       "      <td id=\"T_6e3bb_row4_col2\" class=\"data row4 col2\" >0.5444</td>\n",
       "      <td id=\"T_6e3bb_row4_col3\" class=\"data row4 col3\" >0.5065</td>\n",
       "      <td id=\"T_6e3bb_row4_col4\" class=\"data row4 col4\" >0.5248</td>\n",
       "      <td id=\"T_6e3bb_row4_col5\" class=\"data row4 col5\" >0.0177</td>\n",
       "      <td id=\"T_6e3bb_row4_col6\" class=\"data row4 col6\" >0.0178</td>\n",
       "    </tr>\n",
       "    <tr>\n",
       "      <th id=\"T_6e3bb_level0_row5\" class=\"row_heading level0 row5\" >5</th>\n",
       "      <td id=\"T_6e3bb_row5_col0\" class=\"data row5 col0\" >0.5030</td>\n",
       "      <td id=\"T_6e3bb_row5_col1\" class=\"data row5 col1\" >0.4987</td>\n",
       "      <td id=\"T_6e3bb_row5_col2\" class=\"data row5 col2\" >0.5183</td>\n",
       "      <td id=\"T_6e3bb_row5_col3\" class=\"data row5 col3\" >0.5012</td>\n",
       "      <td id=\"T_6e3bb_row5_col4\" class=\"data row5 col4\" >0.5096</td>\n",
       "      <td id=\"T_6e3bb_row5_col5\" class=\"data row5 col5\" >0.0062</td>\n",
       "      <td id=\"T_6e3bb_row5_col6\" class=\"data row5 col6\" >0.0062</td>\n",
       "    </tr>\n",
       "    <tr>\n",
       "      <th id=\"T_6e3bb_level0_row6\" class=\"row_heading level0 row6\" >6</th>\n",
       "      <td id=\"T_6e3bb_row6_col0\" class=\"data row6 col0\" >0.4996</td>\n",
       "      <td id=\"T_6e3bb_row6_col1\" class=\"data row6 col1\" >0.5037</td>\n",
       "      <td id=\"T_6e3bb_row6_col2\" class=\"data row6 col2\" >0.5986</td>\n",
       "      <td id=\"T_6e3bb_row6_col3\" class=\"data row6 col3\" >0.4982</td>\n",
       "      <td id=\"T_6e3bb_row6_col4\" class=\"data row6 col4\" >0.5438</td>\n",
       "      <td id=\"T_6e3bb_row6_col5\" class=\"data row6 col5\" >-0.0000</td>\n",
       "      <td id=\"T_6e3bb_row6_col6\" class=\"data row6 col6\" >-0.0000</td>\n",
       "    </tr>\n",
       "    <tr>\n",
       "      <th id=\"T_6e3bb_level0_row7\" class=\"row_heading level0 row7\" >7</th>\n",
       "      <td id=\"T_6e3bb_row7_col0\" class=\"data row7 col0\" >0.4998</td>\n",
       "      <td id=\"T_6e3bb_row7_col1\" class=\"data row7 col1\" >0.4976</td>\n",
       "      <td id=\"T_6e3bb_row7_col2\" class=\"data row7 col2\" >0.5025</td>\n",
       "      <td id=\"T_6e3bb_row7_col3\" class=\"data row7 col3\" >0.4980</td>\n",
       "      <td id=\"T_6e3bb_row7_col4\" class=\"data row7 col4\" >0.5003</td>\n",
       "      <td id=\"T_6e3bb_row7_col5\" class=\"data row7 col5\" >-0.0003</td>\n",
       "      <td id=\"T_6e3bb_row7_col6\" class=\"data row7 col6\" >-0.0003</td>\n",
       "    </tr>\n",
       "    <tr>\n",
       "      <th id=\"T_6e3bb_level0_row8\" class=\"row_heading level0 row8\" >8</th>\n",
       "      <td id=\"T_6e3bb_row8_col0\" class=\"data row8 col0\" >0.5020</td>\n",
       "      <td id=\"T_6e3bb_row8_col1\" class=\"data row8 col1\" >0.5021</td>\n",
       "      <td id=\"T_6e3bb_row8_col2\" class=\"data row8 col2\" >0.5738</td>\n",
       "      <td id=\"T_6e3bb_row8_col3\" class=\"data row8 col3\" >0.5002</td>\n",
       "      <td id=\"T_6e3bb_row8_col4\" class=\"data row8 col4\" >0.5345</td>\n",
       "      <td id=\"T_6e3bb_row8_col5\" class=\"data row8 col5\" >0.0044</td>\n",
       "      <td id=\"T_6e3bb_row8_col6\" class=\"data row8 col6\" >0.0045</td>\n",
       "    </tr>\n",
       "    <tr>\n",
       "      <th id=\"T_6e3bb_level0_row9\" class=\"row_heading level0 row9\" >9</th>\n",
       "      <td id=\"T_6e3bb_row9_col0\" class=\"data row9 col0\" >0.5021</td>\n",
       "      <td id=\"T_6e3bb_row9_col1\" class=\"data row9 col1\" >0.5002</td>\n",
       "      <td id=\"T_6e3bb_row9_col2\" class=\"data row9 col2\" >0.5819</td>\n",
       "      <td id=\"T_6e3bb_row9_col3\" class=\"data row9 col3\" >0.5005</td>\n",
       "      <td id=\"T_6e3bb_row9_col4\" class=\"data row9 col4\" >0.5381</td>\n",
       "      <td id=\"T_6e3bb_row9_col5\" class=\"data row9 col5\" >0.0048</td>\n",
       "      <td id=\"T_6e3bb_row9_col6\" class=\"data row9 col6\" >0.0049</td>\n",
       "    </tr>\n",
       "    <tr>\n",
       "      <th id=\"T_6e3bb_level0_row10\" class=\"row_heading level0 row10\" >Mean</th>\n",
       "      <td id=\"T_6e3bb_row10_col0\" class=\"data row10 col0\" >0.5034</td>\n",
       "      <td id=\"T_6e3bb_row10_col1\" class=\"data row10 col1\" >0.5024</td>\n",
       "      <td id=\"T_6e3bb_row10_col2\" class=\"data row10 col2\" >0.5365</td>\n",
       "      <td id=\"T_6e3bb_row10_col3\" class=\"data row10 col3\" >0.5014</td>\n",
       "      <td id=\"T_6e3bb_row10_col4\" class=\"data row10 col4\" >0.5177</td>\n",
       "      <td id=\"T_6e3bb_row10_col5\" class=\"data row10 col5\" >0.0070</td>\n",
       "      <td id=\"T_6e3bb_row10_col6\" class=\"data row10 col6\" >0.0070</td>\n",
       "    </tr>\n",
       "    <tr>\n",
       "      <th id=\"T_6e3bb_level0_row11\" class=\"row_heading level0 row11\" >Std</th>\n",
       "      <td id=\"T_6e3bb_row11_col0\" class=\"data row11 col0\" >0.0045</td>\n",
       "      <td id=\"T_6e3bb_row11_col1\" class=\"data row11 col1\" >0.0061</td>\n",
       "      <td id=\"T_6e3bb_row11_col2\" class=\"data row11 col2\" >0.0410</td>\n",
       "      <td id=\"T_6e3bb_row11_col3\" class=\"data row11 col3\" >0.0044</td>\n",
       "      <td id=\"T_6e3bb_row11_col4\" class=\"data row11 col4\" >0.0204</td>\n",
       "      <td id=\"T_6e3bb_row11_col5\" class=\"data row11 col5\" >0.0090</td>\n",
       "      <td id=\"T_6e3bb_row11_col6\" class=\"data row11 col6\" >0.0090</td>\n",
       "    </tr>\n",
       "  </tbody>\n",
       "</table>\n"
      ],
      "text/plain": [
       "<pandas.io.formats.style.Styler at 0x7f3c656b68c0>"
      ]
     },
     "metadata": {},
     "output_type": "display_data"
    },
    {
     "data": {
      "text/html": [],
      "text/plain": [
       "<IPython.core.display.HTML object>"
      ]
     },
     "metadata": {},
     "output_type": "display_data"
    },
    {
     "name": "stdout",
     "output_type": "stream",
     "text": [
      "Fitting 10 folds for each of 10 candidates, totalling 100 fits\n"
     ]
    }
   ],
   "source": [
    "model_tuned = tune_model(best_models)\n",
    "model_final = finalize_model(model_tuned)"
   ]
  },
  {
   "cell_type": "markdown",
   "id": "8cf95b0c",
   "metadata": {},
   "source": [
    "## Model Evalutaions"
   ]
  },
  {
   "cell_type": "code",
   "execution_count": 45,
   "id": "186731bf",
   "metadata": {},
   "outputs": [
    {
     "data": {
      "text/html": [
       "<style type=\"text/css\">\n",
       "</style>\n",
       "<table id=\"T_d6f83\">\n",
       "  <thead>\n",
       "    <tr>\n",
       "      <th class=\"blank level0\" >&nbsp;</th>\n",
       "      <th id=\"T_d6f83_level0_col0\" class=\"col_heading level0 col0\" >Model</th>\n",
       "      <th id=\"T_d6f83_level0_col1\" class=\"col_heading level0 col1\" >Accuracy</th>\n",
       "      <th id=\"T_d6f83_level0_col2\" class=\"col_heading level0 col2\" >AUC</th>\n",
       "      <th id=\"T_d6f83_level0_col3\" class=\"col_heading level0 col3\" >Recall</th>\n",
       "      <th id=\"T_d6f83_level0_col4\" class=\"col_heading level0 col4\" >Prec.</th>\n",
       "      <th id=\"T_d6f83_level0_col5\" class=\"col_heading level0 col5\" >F1</th>\n",
       "      <th id=\"T_d6f83_level0_col6\" class=\"col_heading level0 col6\" >Kappa</th>\n",
       "      <th id=\"T_d6f83_level0_col7\" class=\"col_heading level0 col7\" >MCC</th>\n",
       "    </tr>\n",
       "  </thead>\n",
       "  <tbody>\n",
       "    <tr>\n",
       "      <th id=\"T_d6f83_level0_row0\" class=\"row_heading level0 row0\" >0</th>\n",
       "      <td id=\"T_d6f83_row0_col0\" class=\"data row0 col0\" >Naive Bayes</td>\n",
       "      <td id=\"T_d6f83_row0_col1\" class=\"data row0 col1\" >0.5048</td>\n",
       "      <td id=\"T_d6f83_row0_col2\" class=\"data row0 col2\" >0.5057</td>\n",
       "      <td id=\"T_d6f83_row0_col3\" class=\"data row0 col3\" >0.3957</td>\n",
       "      <td id=\"T_d6f83_row0_col4\" class=\"data row0 col4\" >0.5010</td>\n",
       "      <td id=\"T_d6f83_row0_col5\" class=\"data row0 col5\" >0.4422</td>\n",
       "      <td id=\"T_d6f83_row0_col6\" class=\"data row0 col6\" >0.0078</td>\n",
       "      <td id=\"T_d6f83_row0_col7\" class=\"data row0 col7\" >0.0080</td>\n",
       "    </tr>\n",
       "  </tbody>\n",
       "</table>\n"
      ],
      "text/plain": [
       "<pandas.io.formats.style.Styler at 0x7f3c656b66e0>"
      ]
     },
     "metadata": {},
     "output_type": "display_data"
    },
    {
     "data": {
      "text/html": [
       "<div>\n",
       "<style scoped>\n",
       "    .dataframe tbody tr th:only-of-type {\n",
       "        vertical-align: middle;\n",
       "    }\n",
       "\n",
       "    .dataframe tbody tr th {\n",
       "        vertical-align: top;\n",
       "    }\n",
       "\n",
       "    .dataframe thead th {\n",
       "        text-align: right;\n",
       "    }\n",
       "</style>\n",
       "<table border=\"1\" class=\"dataframe\">\n",
       "  <thead>\n",
       "    <tr style=\"text-align: center;\">\n",
       "      <th></th>\n",
       "      <th>standardscaler__Subscription_Length_Months</th>\n",
       "      <th>standardscaler__Monthly_Bill</th>\n",
       "      <th>standardscaler__Total_Usage_GB</th>\n",
       "      <th>onehotencoder__Gender_Female</th>\n",
       "      <th>onehotencoder__Gender_Male</th>\n",
       "      <th>onehotencoder__Location_Chicago</th>\n",
       "      <th>onehotencoder__Location_Houston</th>\n",
       "      <th>onehotencoder__Location_Los Angeles</th>\n",
       "      <th>onehotencoder__Location_Miami</th>\n",
       "      <th>onehotencoder__Location_New York</th>\n",
       "      <th>passthrough__Churn</th>\n",
       "      <th>prediction_label</th>\n",
       "      <th>prediction_score</th>\n",
       "    </tr>\n",
       "  </thead>\n",
       "  <tbody>\n",
       "    <tr>\n",
       "      <th>75721</th>\n",
       "      <td>-0.215133</td>\n",
       "      <td>1.157989</td>\n",
       "      <td>1.667962</td>\n",
       "      <td>1.0</td>\n",
       "      <td>0.0</td>\n",
       "      <td>0.0</td>\n",
       "      <td>1.0</td>\n",
       "      <td>0.0</td>\n",
       "      <td>0.0</td>\n",
       "      <td>0.0</td>\n",
       "      <td>0.0</td>\n",
       "      <td>0</td>\n",
       "      <td>0.5219</td>\n",
       "    </tr>\n",
       "    <tr>\n",
       "      <th>80184</th>\n",
       "      <td>0.073617</td>\n",
       "      <td>-1.208229</td>\n",
       "      <td>1.139074</td>\n",
       "      <td>0.0</td>\n",
       "      <td>1.0</td>\n",
       "      <td>0.0</td>\n",
       "      <td>0.0</td>\n",
       "      <td>0.0</td>\n",
       "      <td>0.0</td>\n",
       "      <td>1.0</td>\n",
       "      <td>0.0</td>\n",
       "      <td>1</td>\n",
       "      <td>0.5179</td>\n",
       "    </tr>\n",
       "    <tr>\n",
       "      <th>19864</th>\n",
       "      <td>-1.081380</td>\n",
       "      <td>-1.583898</td>\n",
       "      <td>0.012313</td>\n",
       "      <td>1.0</td>\n",
       "      <td>0.0</td>\n",
       "      <td>0.0</td>\n",
       "      <td>0.0</td>\n",
       "      <td>1.0</td>\n",
       "      <td>0.0</td>\n",
       "      <td>0.0</td>\n",
       "      <td>0.0</td>\n",
       "      <td>0</td>\n",
       "      <td>0.5101</td>\n",
       "    </tr>\n",
       "    <tr>\n",
       "      <th>76699</th>\n",
       "      <td>-1.225755</td>\n",
       "      <td>1.463467</td>\n",
       "      <td>0.495210</td>\n",
       "      <td>0.0</td>\n",
       "      <td>1.0</td>\n",
       "      <td>0.0</td>\n",
       "      <td>0.0</td>\n",
       "      <td>0.0</td>\n",
       "      <td>0.0</td>\n",
       "      <td>1.0</td>\n",
       "      <td>1.0</td>\n",
       "      <td>1</td>\n",
       "      <td>0.5176</td>\n",
       "    </tr>\n",
       "    <tr>\n",
       "      <th>92991</th>\n",
       "      <td>1.661737</td>\n",
       "      <td>0.848062</td>\n",
       "      <td>0.226934</td>\n",
       "      <td>1.0</td>\n",
       "      <td>0.0</td>\n",
       "      <td>0.0</td>\n",
       "      <td>0.0</td>\n",
       "      <td>1.0</td>\n",
       "      <td>0.0</td>\n",
       "      <td>0.0</td>\n",
       "      <td>0.0</td>\n",
       "      <td>0</td>\n",
       "      <td>0.5129</td>\n",
       "    </tr>\n",
       "    <tr>\n",
       "      <th>...</th>\n",
       "      <td>...</td>\n",
       "      <td>...</td>\n",
       "      <td>...</td>\n",
       "      <td>...</td>\n",
       "      <td>...</td>\n",
       "      <td>...</td>\n",
       "      <td>...</td>\n",
       "      <td>...</td>\n",
       "      <td>...</td>\n",
       "      <td>...</td>\n",
       "      <td>...</td>\n",
       "      <td>...</td>\n",
       "      <td>...</td>\n",
       "    </tr>\n",
       "    <tr>\n",
       "      <th>32595</th>\n",
       "      <td>1.084239</td>\n",
       "      <td>0.723993</td>\n",
       "      <td>-1.198764</td>\n",
       "      <td>0.0</td>\n",
       "      <td>1.0</td>\n",
       "      <td>0.0</td>\n",
       "      <td>0.0</td>\n",
       "      <td>0.0</td>\n",
       "      <td>1.0</td>\n",
       "      <td>0.0</td>\n",
       "      <td>0.0</td>\n",
       "      <td>1</td>\n",
       "      <td>0.5141</td>\n",
       "    </tr>\n",
       "    <tr>\n",
       "      <th>29313</th>\n",
       "      <td>-0.070758</td>\n",
       "      <td>1.566776</td>\n",
       "      <td>0.679172</td>\n",
       "      <td>0.0</td>\n",
       "      <td>1.0</td>\n",
       "      <td>0.0</td>\n",
       "      <td>0.0</td>\n",
       "      <td>1.0</td>\n",
       "      <td>0.0</td>\n",
       "      <td>0.0</td>\n",
       "      <td>1.0</td>\n",
       "      <td>0</td>\n",
       "      <td>0.5074</td>\n",
       "    </tr>\n",
       "    <tr>\n",
       "      <th>37862</th>\n",
       "      <td>0.073617</td>\n",
       "      <td>-1.271500</td>\n",
       "      <td>-1.053128</td>\n",
       "      <td>0.0</td>\n",
       "      <td>1.0</td>\n",
       "      <td>0.0</td>\n",
       "      <td>0.0</td>\n",
       "      <td>0.0</td>\n",
       "      <td>1.0</td>\n",
       "      <td>0.0</td>\n",
       "      <td>1.0</td>\n",
       "      <td>1</td>\n",
       "      <td>0.5157</td>\n",
       "    </tr>\n",
       "    <tr>\n",
       "      <th>53421</th>\n",
       "      <td>0.073617</td>\n",
       "      <td>1.487193</td>\n",
       "      <td>1.713952</td>\n",
       "      <td>0.0</td>\n",
       "      <td>1.0</td>\n",
       "      <td>0.0</td>\n",
       "      <td>0.0</td>\n",
       "      <td>0.0</td>\n",
       "      <td>1.0</td>\n",
       "      <td>0.0</td>\n",
       "      <td>0.0</td>\n",
       "      <td>1</td>\n",
       "      <td>0.5110</td>\n",
       "    </tr>\n",
       "    <tr>\n",
       "      <th>42410</th>\n",
       "      <td>-0.215133</td>\n",
       "      <td>-1.687701</td>\n",
       "      <td>0.564196</td>\n",
       "      <td>0.0</td>\n",
       "      <td>1.0</td>\n",
       "      <td>1.0</td>\n",
       "      <td>0.0</td>\n",
       "      <td>0.0</td>\n",
       "      <td>0.0</td>\n",
       "      <td>0.0</td>\n",
       "      <td>1.0</td>\n",
       "      <td>0</td>\n",
       "      <td>0.5042</td>\n",
       "    </tr>\n",
       "  </tbody>\n",
       "</table>\n",
       "<p>20000 rows × 13 columns</p>\n",
       "</div>"
      ],
      "text/plain": [
       "       standardscaler__Subscription_Length_Months  \\\n",
       "75721                  -0.215133                    \n",
       "80184                   0.073617                    \n",
       "19864                  -1.081380                    \n",
       "76699                  -1.225755                    \n",
       "92991                   1.661737                    \n",
       "...                                           ...   \n",
       "32595                   1.084239                    \n",
       "29313                  -0.070758                    \n",
       "37862                   0.073617                    \n",
       "53421                   0.073617                    \n",
       "42410                  -0.215133                    \n",
       "\n",
       "       standardscaler__Monthly_Bill  standardscaler__Total_Usage_GB  \\\n",
       "75721            1.157989                       1.667962              \n",
       "80184           -1.208229                       1.139074              \n",
       "19864           -1.583898                       0.012313              \n",
       "76699            1.463467                       0.495210              \n",
       "92991            0.848062                       0.226934              \n",
       "...                             ...                             ...   \n",
       "32595            0.723993                      -1.198764              \n",
       "29313            1.566776                       0.679172              \n",
       "37862           -1.271500                      -1.053128              \n",
       "53421            1.487193                       1.713952              \n",
       "42410           -1.687701                       0.564196              \n",
       "\n",
       "       onehotencoder__Gender_Female  onehotencoder__Gender_Male  \\\n",
       "75721               1.0                          0.0              \n",
       "80184               0.0                          1.0              \n",
       "19864               1.0                          0.0              \n",
       "76699               0.0                          1.0              \n",
       "92991               1.0                          0.0              \n",
       "...                             ...                         ...   \n",
       "32595               0.0                          1.0              \n",
       "29313               0.0                          1.0              \n",
       "37862               0.0                          1.0              \n",
       "53421               0.0                          1.0              \n",
       "42410               0.0                          1.0              \n",
       "\n",
       "       onehotencoder__Location_Chicago  onehotencoder__Location_Houston  \\\n",
       "75721                0.0                              1.0                 \n",
       "80184                0.0                              0.0                 \n",
       "19864                0.0                              0.0                 \n",
       "76699                0.0                              0.0                 \n",
       "92991                0.0                              0.0                 \n",
       "...                                ...                              ...   \n",
       "32595                0.0                              0.0                 \n",
       "29313                0.0                              0.0                 \n",
       "37862                0.0                              0.0                 \n",
       "53421                0.0                              0.0                 \n",
       "42410                1.0                              0.0                 \n",
       "\n",
       "       onehotencoder__Location_Los Angeles  onehotencoder__Location_Miami  \\\n",
       "75721                  0.0                               0.0                \n",
       "80184                  0.0                               0.0                \n",
       "19864                  1.0                               0.0                \n",
       "76699                  0.0                               0.0                \n",
       "92991                  1.0                               0.0                \n",
       "...                                    ...                            ...   \n",
       "32595                  0.0                               1.0                \n",
       "29313                  1.0                               0.0                \n",
       "37862                  0.0                               1.0                \n",
       "53421                  0.0                               1.0                \n",
       "42410                  0.0                               0.0                \n",
       "\n",
       "       onehotencoder__Location_New York  passthrough__Churn  prediction_label  \\\n",
       "75721                 0.0                        0.0                 0          \n",
       "80184                 1.0                        0.0                 1          \n",
       "19864                 0.0                        0.0                 0          \n",
       "76699                 1.0                        1.0                 1          \n",
       "92991                 0.0                        0.0                 0          \n",
       "...                                 ...                 ...               ...   \n",
       "32595                 0.0                        0.0                 1          \n",
       "29313                 0.0                        1.0                 0          \n",
       "37862                 0.0                        1.0                 1          \n",
       "53421                 0.0                        0.0                 1          \n",
       "42410                 0.0                        1.0                 0          \n",
       "\n",
       "       prediction_score  \n",
       "75721       0.5219       \n",
       "80184       0.5179       \n",
       "19864       0.5101       \n",
       "76699       0.5176       \n",
       "92991       0.5129       \n",
       "...                 ...  \n",
       "32595       0.5141       \n",
       "29313       0.5074       \n",
       "37862       0.5157       \n",
       "53421       0.5110       \n",
       "42410       0.5042       \n",
       "\n",
       "[20000 rows x 13 columns]"
      ]
     },
     "execution_count": 45,
     "metadata": {},
     "output_type": "execute_result"
    }
   ],
   "source": [
    "predictions = predict_model(model_final, test_df)\n",
    "predictions"
   ]
  },
  {
   "cell_type": "markdown",
   "id": "2d57ff3d",
   "metadata": {},
   "source": [
    "## Model Save"
   ]
  },
  {
   "cell_type": "code",
   "execution_count": 50,
   "id": "a0373be5",
   "metadata": {},
   "outputs": [],
   "source": [
    "y=df_t['passthrough__Churn']\n",
    "X=df_t.drop('passthrough__Churn', axis=1)\n",
    "trainX,testX,trainY,testY=train_test_split(X,y,test_size=0.1,random_state=42)\n",
    "model=RandomForestClassifier()\n",
    "model.fit(trainX,trainY)\n",
    "pickle_out=open('clf.pkl','wb')\n",
    "pickle.dump(model,pickle_out)\n",
    "pickle_out.close()"
   ]
  },
  {
   "cell_type": "code",
   "execution_count": null,
   "id": "d819f99b",
   "metadata": {},
   "outputs": [],
   "source": []
  }
 ],
 "metadata": {
  "kernelspec": {
   "display_name": "Python 3 (ipykernel)",
   "language": "python",
   "name": "python3"
  },
  "language_info": {
   "codemirror_mode": {
    "name": "ipython",
    "version": 3
   },
   "file_extension": ".py",
   "mimetype": "text/x-python",
   "name": "python",
   "nbconvert_exporter": "python",
   "pygments_lexer": "ipython3",
   "version": "3.10.10"
  }
 },
 "nbformat": 4,
 "nbformat_minor": 5
}
